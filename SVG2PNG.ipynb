{
  "nbformat": 4,
  "nbformat_minor": 0,
  "metadata": {
    "colab": {
      "provenance": [],
      "authorship_tag": "ABX9TyMexB4zTaM7b0tzCqaJtKQe",
      "include_colab_link": true
    },
    "kernelspec": {
      "name": "python3",
      "display_name": "Python 3"
    },
    "language_info": {
      "name": "python"
    }
  },
  "cells": [
    {
      "cell_type": "markdown",
      "metadata": {
        "id": "view-in-github",
        "colab_type": "text"
      },
      "source": [
        "<a href=\"https://colab.research.google.com/github/Ash100/Documents/blob/main/SVG2PNG.ipynb\" target=\"_parent\"><img src=\"https://colab.research.google.com/assets/colab-badge.svg\" alt=\"Open In Colab\"/></a>"
      ]
    },
    {
      "cell_type": "markdown",
      "source": [
        "This notebook is written by **Dr. Ashfaq Ahmad**. It uses cairosvg and pillow, and converts SVG format files into 600 DPI PNG files."
      ],
      "metadata": {
        "id": "0_G0pgAOrkVl"
      }
    },
    {
      "cell_type": "code",
      "source": [
        "!pip install cairosvg Pillow\n"
      ],
      "metadata": {
        "id": "g88W33s2pNWW"
      },
      "execution_count": null,
      "outputs": []
    },
    {
      "cell_type": "code",
      "source": [
        "from cairosvg import svg2png\n",
        "from PIL import Image\n",
        "\n",
        "def convert_svg_to_png_high_res(input_svg_path, output_png_path, scale=6):\n",
        "    # Convert SVG to PNG with higher resolution by scaling the output\n",
        "    svg2png(url=input_svg_path, write_to=output_png_path, scale=scale)\n",
        "\n",
        "    # Open the image using Pillow\n",
        "    img = Image.open(output_png_path)\n",
        "\n",
        "    # Save with DPI 600 to ensure quality for printing purposes\n",
        "    img.save(output_png_path, dpi=(600, 600))\n",
        "\n",
        "    print(f\"High-resolution PNG saved at: {output_png_path} with 600 DPI\")\n",
        "\n",
        "# Example usage\n",
        "input_svg_path = \"/content/83288403.svg\"\n",
        "output_png_path = \"/content/83288403.png\"\n",
        "convert_svg_to_png_high_res(input_svg_path, output_png_path)\n"
      ],
      "metadata": {
        "colab": {
          "base_uri": "https://localhost:8080/"
        },
        "id": "Dz9W3-QiqQLh",
        "outputId": "d33846c3-a432-4cbd-bb9b-7b08ca90286f"
      },
      "execution_count": null,
      "outputs": [
        {
          "output_type": "stream",
          "name": "stdout",
          "text": [
            "High-resolution PNG saved at: /content/83288403.png with 600 DPI\n"
          ]
        }
      ]
    }
  ]
}