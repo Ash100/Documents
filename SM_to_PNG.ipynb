{
  "nbformat": 4,
  "nbformat_minor": 0,
  "metadata": {
    "colab": {
      "provenance": [],
      "authorship_tag": "ABX9TyMNebJMsXPRtKFv9GLDiUiB",
      "include_colab_link": true
    },
    "kernelspec": {
      "name": "python3",
      "display_name": "Python 3"
    },
    "language_info": {
      "name": "python"
    }
  },
  "cells": [
    {
      "cell_type": "markdown",
      "metadata": {
        "id": "view-in-github",
        "colab_type": "text"
      },
      "source": [
        "<a href=\"https://colab.research.google.com/github/Ash100/Documents/blob/main/SM_to_PNG.ipynb\" target=\"_parent\"><img src=\"https://colab.research.google.com/assets/colab-badge.svg\" alt=\"Open In Colab\"/></a>"
      ]
    },
    {
      "cell_type": "markdown",
      "source": [
        "Dealing a Single SMILE"
      ],
      "metadata": {
        "id": "_aiSoE0lJ9DE"
      }
    },
    {
      "cell_type": "code",
      "execution_count": null,
      "metadata": {
        "id": "yOQ9Z2Jg6cIB"
      },
      "outputs": [],
      "source": [
        "!pip install rdkit\n",
        "\n",
        "import pandas as pd\n",
        "from rdkit import Chem\n",
        "from rdkit.Chem import Draw\n",
        "import matplotlib.pyplot as plt\n",
        "from PIL import Image"
      ]
    },
    {
      "cell_type": "code",
      "source": [
        "from rdkit import Chem\n",
        "from rdkit.Chem import Draw\n",
        "\n",
        "ms_smis = [[\"C1C[C@H](CN(C1)CCCNC(=O)NC2=CC=CC(=C2)C3=NN=CO3)CC4=CC=C(C=C4)F\", \"44289877\"],\n",
        "           [\"C[N+]1=CC=CC(=C1)NC(=O)C2=CC=C(C=C2)NC(=O)C3=CC(=C(C=C3)C(=O)NC4=CC=C(C=C4)C(=O)NC5=C[N+](=CC=C5)C)N\", \"204648\"]]\n",
        "ms = [[Chem.MolFromSmiles(x[0]), x[1]] for x in ms_smis]\n",
        "\n",
        "for m in ms: Draw.MolToFile(m[0], m[1] + \".svg\", size=(800, 800))"
      ],
      "metadata": {
        "id": "EkUM6mUr6dJ7"
      },
      "execution_count": 2,
      "outputs": []
    },
    {
      "cell_type": "code",
      "source": [
        "from IPython.display import SVG\n",
        "\n",
        "# Display the first molecule's SVG image\n",
        "SVG(\"44289877.svg\")"
      ],
      "metadata": {
        "id": "PqZQt8Te7wyr"
      },
      "execution_count": null,
      "outputs": []
    },
    {
      "cell_type": "code",
      "source": [
        "!pip install cairosvg"
      ],
      "metadata": {
        "id": "pxeqqr438Oh4"
      },
      "execution_count": null,
      "outputs": []
    },
    {
      "cell_type": "code",
      "source": [
        "import cairosvg\n",
        "\n",
        "# Convert the SVG file to PNG and save it\n",
        "cairosvg.svg2png(url=\"44289877.svg\", write_to=\"44289877.png\")\n",
        "\n",
        "print(\"SVG successfully converted to PNG and saved as '44289877.png'\")\n"
      ],
      "metadata": {
        "id": "SNlm8n248BFf"
      },
      "execution_count": null,
      "outputs": []
    },
    {
      "cell_type": "markdown",
      "source": [
        "When Dealing More than one SMILE"
      ],
      "metadata": {
        "id": "7vEkEp7XJ5FK"
      }
    },
    {
      "cell_type": "code",
      "source": [
        "from rdkit import Chem\n",
        "from rdkit.Chem import Draw\n",
        "from PIL import Image\n",
        "\n",
        "# Define the SMILES strings and compound IDs\n",
        "ms_smis = [\n",
        "    [\"COC1=C(C=C(C=C1)NC(=O)C2=CC=CC=C2[N+](=O)[O-])N3CCCC3=O\", \"53472683\"],\n",
        "    [\"CC1=CC=C(C=C1)C(=O)NC2=CC(=C(N=C2)N3CCC(CC3)(C(=O)N)N4CCCCC4)C(=O)O\", \"83288403\"],\n",
        "    [\"CN1CCN(CC1)C2=NC=CC(=C2)C(=O)NC3=NC=C4C=CC(=CC4=C3)C5=CN(N=C5)C\", \"132056570\"]\n",
        "]\n",
        "\n",
        "# Convert the SMILES to RDKit Mol objects and save them as SVG\n",
        "ms = [[Chem.MolFromSmiles(x[0]), x[1]] for x in ms_smis]\n",
        "\n",
        "for m in ms:\n",
        "    # Save each molecule as an SVG file\n",
        "    Draw.MolToFile(m[0], f\"{m[1]}.svg\", size=(800, 800))\n",
        "\n",
        "# Now we want to combine the two SVGs into one PNG image with each boxed\n",
        "# Convert SVG to PNG using PIL (through cairosvg or any SVG-to-PNG converter)\n",
        "# Assuming cairosvg is installed, otherwise you can install it via: !pip install cairosvg\n",
        "\n",
        "import cairosvg\n",
        "\n",
        "# Convert SVG to PNG\n",
        "for m in ms:\n",
        "    cairosvg.svg2png(url=f\"{m[1]}.svg\", write_to=f\"{m[1]}.png\")\n",
        "\n",
        "# Now combine the PNG files into a single image\n",
        "# Open the PNG files\n",
        "imgs = [Image.open(f\"{m[1]}.png\") for m in ms]\n",
        "\n",
        "# Create a blank canvas for combining the images\n",
        "width = sum(img.width for img in imgs)\n",
        "height = max(img.height for img in imgs)\n",
        "\n",
        "# Create a new image with the combined width and max height\n",
        "combined_img = Image.new('RGB', (width, height))\n",
        "\n",
        "# Paste the individual images into the combined image\n",
        "x_offset = 0\n",
        "for img in imgs:\n",
        "    combined_img.paste(img, (x_offset, 0))\n",
        "    x_offset += img.width\n",
        "\n",
        "# Save the combined image as PNG\n",
        "combined_img.save(\"last three combined_molecules.png\", format=\"PNG\")\n",
        "\n",
        "# Display the combined image\n",
        "combined_img.show()\n"
      ],
      "metadata": {
        "id": "b6hmzwVL84ht"
      },
      "execution_count": 13,
      "outputs": []
    },
    {
      "cell_type": "code",
      "source": [
        "from rdkit import Chem\n",
        "from rdkit.Chem import Draw\n",
        "from PIL import Image\n",
        "import cairosvg\n",
        "\n",
        "# Define the SMILES strings and compound IDs\n",
        "ms_smis = [\n",
        "    [\"C1C[C@H](CN(C1)CCCNC(=O)NC2=CC=CC(=C2)C3=NN=CO3)CC4=CC=C(C=C4)F\", \"44289877\"],\n",
        "    [\"C[N+]1=CC=CC(=C1)NC(=O)C2=CC=C(C=C2)NC(=O)C3=CC(=C(C=C3)C(=O)NC4=CC=C(C=C4)C(=O)NC5=C[N+](=CC=C5)C)N\", \"204648\"],\n",
        "    [\"CN1CCN(CC1)C2=CC=C(C=C2)NC(=O)NC3=CC=C(C=C3)C4=NC5=C(C=NN5C6CCN(CC6)C(=O)OC)C(=N4)N7CCOCC7\", \"44233641\"]\n",
        "]\n",
        "\n",
        "# Convert the SMILES to RDKit Mol objects and save them as SVG\n",
        "ms = [[Chem.MolFromSmiles(x[0]), x[1]] for x in ms_smis]\n",
        "\n",
        "for m in ms:\n",
        "    # Save each molecule as an SVG file\n",
        "    Draw.MolToFile(m[0], f\"{m[1]}.svg\", size=(800, 800))\n",
        "\n",
        "# Convert SVG to PNG\n",
        "for m in ms:\n",
        "    cairosvg.svg2png(url=f\"{m[1]}.svg\", write_to=f\"{m[1]}.png\")\n",
        "\n",
        "# Now combine the PNG files into a single image\n",
        "# Open the PNG files\n",
        "imgs = [Image.open(f\"{m[1]}.png\") for m in ms]\n",
        "\n",
        "# Create a blank canvas for combining the images\n",
        "width = sum(img.width for img in imgs)\n",
        "height = max(img.height for img in imgs)\n",
        "\n",
        "# Create a new image with the combined width and max height\n",
        "combined_img = Image.new('RGB', (width, height))\n",
        "\n",
        "# Paste the individual images into the combined image\n",
        "x_offset = 0\n",
        "for img in imgs:\n",
        "    combined_img.paste(img, (x_offset, 0))\n",
        "    x_offset += img.width\n",
        "\n",
        "# Save the combined image as PNG with 600 DPI\n",
        "combined_img.save(\"first three combined_molecules_600dpi.png\", format=\"PNG\", dpi=(600, 600))\n",
        "\n",
        "# Display the combined image\n",
        "combined_img.show()\n"
      ],
      "metadata": {
        "id": "cZjwSnlj_wmF"
      },
      "execution_count": 16,
      "outputs": []
    }
  ]
}