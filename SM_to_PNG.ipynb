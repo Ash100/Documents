{
  "nbformat": 4,
  "nbformat_minor": 0,
  "metadata": {
    "colab": {
      "provenance": [],
      "authorship_tag": "ABX9TyOSi2P1KIoUHmSF7HUe2SN5",
      "include_colab_link": true
    },
    "kernelspec": {
      "name": "python3",
      "display_name": "Python 3"
    },
    "language_info": {
      "name": "python"
    }
  },
  "cells": [
    {
      "cell_type": "markdown",
      "metadata": {
        "id": "view-in-github",
        "colab_type": "text"
      },
      "source": [
        "<a href=\"https://colab.research.google.com/github/Ash100/Documents/blob/main/SM_to_PNG.ipynb\" target=\"_parent\"><img src=\"https://colab.research.google.com/assets/colab-badge.svg\" alt=\"Open In Colab\"/></a>"
      ]
    },
    {
      "cell_type": "markdown",
      "source": [
        "Dealing a Single SMILE"
      ],
      "metadata": {
        "id": "_aiSoE0lJ9DE"
      }
    },
    {
      "cell_type": "code",
      "execution_count": null,
      "metadata": {
        "id": "yOQ9Z2Jg6cIB"
      },
      "outputs": [],
      "source": [
        "!pip install rdkit\n",
        "\n",
        "import pandas as pd\n",
        "from rdkit import Chem\n",
        "from rdkit.Chem import Draw\n",
        "import matplotlib.pyplot as plt\n",
        "from PIL import Image"
      ]
    },
    {
      "cell_type": "code",
      "source": [
        "from rdkit import Chem\n",
        "from rdkit.Chem import Draw\n",
        "\n",
        "ms_smis = [[\"C1C[C@H](CN(C1)CCCNC(=O)NC2=CC=CC(=C2)C3=NN=CO3)CC4=CC=C(C=C4)F\", \"44289877\"],\n",
        "           [\"C[N+]1=CC=CC(=C1)NC(=O)C2=CC=C(C=C2)NC(=O)C3=CC(=C(C=C3)C(=O)NC4=CC=C(C=C4)C(=O)NC5=C[N+](=CC=C5)C)N\", \"204648\"],\n",
        "           [\"CN1CCN(CC1)C2=CC=C(C=C2)NC(=O)NC3=CC=C(C=C3)C4=NC5=C(C=NN5C6CCN(CC6)C(=O)OC)C(=N4)N7CCOCC7\", \"44233641\"],\n",
        "           [\"CN1CCN(CC1)C2=NC=CC(=C2)C(=O)NC3=NC=C4C=CC(=CC4=C3)C5=CN(N=C5)C\", \"132056570\"],\n",
        "           [\"CC1=CC=C(C=C1)C(=O)NC2=CC(=C(N=C2)N3CCC(CC3)(C(=O)N)N4CCCCC4)C(=O)O\", \"83288403\"]]\n",
        "ms = [[Chem.MolFromSmiles(x[0]), x[1]] for x in ms_smis]\n",
        "\n",
        "for m in ms: Draw.MolToFile(m[0], m[1] + \".svg\", size=(800, 800))"
      ],
      "metadata": {
        "id": "EkUM6mUr6dJ7"
      },
      "execution_count": 2,
      "outputs": []
    },
    {
      "cell_type": "code",
      "source": [
        "from IPython.display import SVG\n",
        "\n",
        "# Display the first molecule's SVG image\n",
        "SVG(\"44289877.svg\")"
      ],
      "metadata": {
        "id": "PqZQt8Te7wyr"
      },
      "execution_count": null,
      "outputs": []
    },
    {
      "cell_type": "code",
      "source": [
        "!pip install cairosvg"
      ],
      "metadata": {
        "id": "pxeqqr438Oh4"
      },
      "execution_count": null,
      "outputs": []
    },
    {
      "cell_type": "code",
      "source": [
        "import cairosvg\n",
        "\n",
        "# Convert the SVG file to PNG and save it\n",
        "cairosvg.svg2png(url=\"44289877.svg\", write_to=\"44289877.png\", dpi=(600, 600))\n",
        "\n",
        "print(\"SVG successfully converted to PNG and saved as '44289877.png'\")\n"
      ],
      "metadata": {
        "id": "SNlm8n248BFf",
        "outputId": "93888a6d-f68a-454b-ac7d-189366bf26d3",
        "colab": {
          "base_uri": "https://localhost:8080/",
          "height": 356
        }
      },
      "execution_count": 8,
      "outputs": [
        {
          "output_type": "error",
          "ename": "TypeError",
          "evalue": "can't multiply sequence by non-int of type 'float'",
          "traceback": [
            "\u001b[0;31m---------------------------------------------------------------------------\u001b[0m",
            "\u001b[0;31mTypeError\u001b[0m                                 Traceback (most recent call last)",
            "\u001b[0;32m<ipython-input-8-c5b1f2ec23cb>\u001b[0m in \u001b[0;36m<cell line: 0>\u001b[0;34m()\u001b[0m\n\u001b[1;32m      2\u001b[0m \u001b[0;34m\u001b[0m\u001b[0m\n\u001b[1;32m      3\u001b[0m \u001b[0;31m# Convert the SVG file to PNG and save it\u001b[0m\u001b[0;34m\u001b[0m\u001b[0;34m\u001b[0m\u001b[0m\n\u001b[0;32m----> 4\u001b[0;31m \u001b[0mcairosvg\u001b[0m\u001b[0;34m.\u001b[0m\u001b[0msvg2png\u001b[0m\u001b[0;34m(\u001b[0m\u001b[0murl\u001b[0m\u001b[0;34m=\u001b[0m\u001b[0;34m\"44289877.svg\"\u001b[0m\u001b[0;34m,\u001b[0m \u001b[0mwrite_to\u001b[0m\u001b[0;34m=\u001b[0m\u001b[0;34m\"44289877.png\"\u001b[0m\u001b[0;34m,\u001b[0m \u001b[0mdpi\u001b[0m\u001b[0;34m=\u001b[0m\u001b[0;34m(\u001b[0m\u001b[0;36m600\u001b[0m\u001b[0;34m,\u001b[0m \u001b[0;36m600\u001b[0m\u001b[0;34m)\u001b[0m\u001b[0;34m)\u001b[0m\u001b[0;34m\u001b[0m\u001b[0;34m\u001b[0m\u001b[0m\n\u001b[0m\u001b[1;32m      5\u001b[0m \u001b[0;34m\u001b[0m\u001b[0m\n\u001b[1;32m      6\u001b[0m \u001b[0mprint\u001b[0m\u001b[0;34m(\u001b[0m\u001b[0;34m\"SVG successfully converted to PNG and saved as '44289877.png'\"\u001b[0m\u001b[0;34m)\u001b[0m\u001b[0;34m\u001b[0m\u001b[0;34m\u001b[0m\u001b[0m\n",
            "\u001b[0;32m/usr/local/lib/python3.11/dist-packages/cairosvg/__init__.py\u001b[0m in \u001b[0;36msvg2png\u001b[0;34m(bytestring, file_obj, url, dpi, parent_width, parent_height, scale, unsafe, background_color, negate_colors, invert_images, write_to, output_width, output_height)\u001b[0m\n\u001b[1;32m     53\u001b[0m             \u001b[0mbackground_color\u001b[0m\u001b[0;34m=\u001b[0m\u001b[0;32mNone\u001b[0m\u001b[0;34m,\u001b[0m \u001b[0mnegate_colors\u001b[0m\u001b[0;34m=\u001b[0m\u001b[0;32mFalse\u001b[0m\u001b[0;34m,\u001b[0m \u001b[0minvert_images\u001b[0m\u001b[0;34m=\u001b[0m\u001b[0;32mFalse\u001b[0m\u001b[0;34m,\u001b[0m\u001b[0;34m\u001b[0m\u001b[0;34m\u001b[0m\u001b[0m\n\u001b[1;32m     54\u001b[0m             write_to=None, output_width=None, output_height=None):\n\u001b[0;32m---> 55\u001b[0;31m     return surface.PNGSurface.convert(\n\u001b[0m\u001b[1;32m     56\u001b[0m         \u001b[0mbytestring\u001b[0m\u001b[0;34m=\u001b[0m\u001b[0mbytestring\u001b[0m\u001b[0;34m,\u001b[0m \u001b[0mfile_obj\u001b[0m\u001b[0;34m=\u001b[0m\u001b[0mfile_obj\u001b[0m\u001b[0;34m,\u001b[0m \u001b[0murl\u001b[0m\u001b[0;34m=\u001b[0m\u001b[0murl\u001b[0m\u001b[0;34m,\u001b[0m \u001b[0mdpi\u001b[0m\u001b[0;34m=\u001b[0m\u001b[0mdpi\u001b[0m\u001b[0;34m,\u001b[0m\u001b[0;34m\u001b[0m\u001b[0;34m\u001b[0m\u001b[0m\n\u001b[1;32m     57\u001b[0m         \u001b[0mparent_width\u001b[0m\u001b[0;34m=\u001b[0m\u001b[0mparent_width\u001b[0m\u001b[0;34m,\u001b[0m \u001b[0mparent_height\u001b[0m\u001b[0;34m=\u001b[0m\u001b[0mparent_height\u001b[0m\u001b[0;34m,\u001b[0m \u001b[0mscale\u001b[0m\u001b[0;34m=\u001b[0m\u001b[0mscale\u001b[0m\u001b[0;34m,\u001b[0m\u001b[0;34m\u001b[0m\u001b[0;34m\u001b[0m\u001b[0m\n",
            "\u001b[0;32m/usr/local/lib/python3.11/dist-packages/cairosvg/surface.py\u001b[0m in \u001b[0;36mconvert\u001b[0;34m(cls, bytestring, file_obj, url, dpi, parent_width, parent_height, scale, unsafe, background_color, negate_colors, invert_images, write_to, output_width, output_height, **kwargs)\u001b[0m\n\u001b[1;32m    131\u001b[0m             **kwargs)\n\u001b[1;32m    132\u001b[0m         \u001b[0moutput\u001b[0m \u001b[0;34m=\u001b[0m \u001b[0mwrite_to\u001b[0m \u001b[0;32mor\u001b[0m \u001b[0mio\u001b[0m\u001b[0;34m.\u001b[0m\u001b[0mBytesIO\u001b[0m\u001b[0;34m(\u001b[0m\u001b[0;34m)\u001b[0m\u001b[0;34m\u001b[0m\u001b[0;34m\u001b[0m\u001b[0m\n\u001b[0;32m--> 133\u001b[0;31m         instance = cls(\n\u001b[0m\u001b[1;32m    134\u001b[0m             \u001b[0mtree\u001b[0m\u001b[0;34m,\u001b[0m \u001b[0moutput\u001b[0m\u001b[0;34m,\u001b[0m \u001b[0mdpi\u001b[0m\u001b[0;34m,\u001b[0m \u001b[0;32mNone\u001b[0m\u001b[0;34m,\u001b[0m \u001b[0mparent_width\u001b[0m\u001b[0;34m,\u001b[0m \u001b[0mparent_height\u001b[0m\u001b[0;34m,\u001b[0m \u001b[0mscale\u001b[0m\u001b[0;34m,\u001b[0m\u001b[0;34m\u001b[0m\u001b[0;34m\u001b[0m\u001b[0m\n\u001b[1;32m    135\u001b[0m             \u001b[0moutput_width\u001b[0m\u001b[0;34m,\u001b[0m \u001b[0moutput_height\u001b[0m\u001b[0;34m,\u001b[0m \u001b[0mbackground_color\u001b[0m\u001b[0;34m,\u001b[0m\u001b[0;34m\u001b[0m\u001b[0;34m\u001b[0m\u001b[0m\n",
            "\u001b[0;32m/usr/local/lib/python3.11/dist-packages/cairosvg/surface.py\u001b[0m in \u001b[0;36m__init__\u001b[0;34m(self, tree, output, dpi, parent_surface, parent_width, parent_height, scale, output_width, output_height, background_color, map_rgba, map_image)\u001b[0m\n\u001b[1;32m    179\u001b[0m         \u001b[0mself\u001b[0m\u001b[0;34m.\u001b[0m\u001b[0moutput\u001b[0m \u001b[0;34m=\u001b[0m \u001b[0moutput\u001b[0m\u001b[0;34m\u001b[0m\u001b[0;34m\u001b[0m\u001b[0m\n\u001b[1;32m    180\u001b[0m         \u001b[0mself\u001b[0m\u001b[0;34m.\u001b[0m\u001b[0mdpi\u001b[0m \u001b[0;34m=\u001b[0m \u001b[0mdpi\u001b[0m\u001b[0;34m\u001b[0m\u001b[0;34m\u001b[0m\u001b[0m\n\u001b[0;32m--> 181\u001b[0;31m         \u001b[0mself\u001b[0m\u001b[0;34m.\u001b[0m\u001b[0mfont_size\u001b[0m \u001b[0;34m=\u001b[0m \u001b[0msize\u001b[0m\u001b[0;34m(\u001b[0m\u001b[0mself\u001b[0m\u001b[0;34m,\u001b[0m \u001b[0;34m'12pt'\u001b[0m\u001b[0;34m)\u001b[0m\u001b[0;34m\u001b[0m\u001b[0;34m\u001b[0m\u001b[0m\n\u001b[0m\u001b[1;32m    182\u001b[0m         \u001b[0mself\u001b[0m\u001b[0;34m.\u001b[0m\u001b[0mstroke_and_fill\u001b[0m \u001b[0;34m=\u001b[0m \u001b[0;32mTrue\u001b[0m\u001b[0;34m\u001b[0m\u001b[0;34m\u001b[0m\u001b[0m\n\u001b[1;32m    183\u001b[0m         \u001b[0mwidth\u001b[0m\u001b[0;34m,\u001b[0m \u001b[0mheight\u001b[0m\u001b[0;34m,\u001b[0m \u001b[0mviewbox\u001b[0m \u001b[0;34m=\u001b[0m \u001b[0mnode_format\u001b[0m\u001b[0;34m(\u001b[0m\u001b[0mself\u001b[0m\u001b[0;34m,\u001b[0m \u001b[0mtree\u001b[0m\u001b[0;34m)\u001b[0m\u001b[0;34m\u001b[0m\u001b[0;34m\u001b[0m\u001b[0m\n",
            "\u001b[0;32m/usr/local/lib/python3.11/dist-packages/cairosvg/helpers.py\u001b[0m in \u001b[0;36msize\u001b[0;34m(surface, string, reference)\u001b[0m\n\u001b[1;32m    387\u001b[0m         \u001b[0;32mif\u001b[0m \u001b[0mstring\u001b[0m\u001b[0;34m.\u001b[0m\u001b[0mendswith\u001b[0m\u001b[0;34m(\u001b[0m\u001b[0munit\u001b[0m\u001b[0;34m)\u001b[0m\u001b[0;34m:\u001b[0m\u001b[0;34m\u001b[0m\u001b[0;34m\u001b[0m\u001b[0m\n\u001b[1;32m    388\u001b[0m             \u001b[0mnumber\u001b[0m \u001b[0;34m=\u001b[0m \u001b[0mfloat\u001b[0m\u001b[0;34m(\u001b[0m\u001b[0mstring\u001b[0m\u001b[0;34m[\u001b[0m\u001b[0;34m:\u001b[0m\u001b[0;34m-\u001b[0m\u001b[0mlen\u001b[0m\u001b[0;34m(\u001b[0m\u001b[0munit\u001b[0m\u001b[0;34m)\u001b[0m\u001b[0;34m]\u001b[0m\u001b[0;34m)\u001b[0m\u001b[0;34m\u001b[0m\u001b[0;34m\u001b[0m\u001b[0m\n\u001b[0;32m--> 389\u001b[0;31m             \u001b[0;32mreturn\u001b[0m \u001b[0mnumber\u001b[0m \u001b[0;34m*\u001b[0m \u001b[0;34m(\u001b[0m\u001b[0msurface\u001b[0m\u001b[0;34m.\u001b[0m\u001b[0mdpi\u001b[0m \u001b[0;34m*\u001b[0m \u001b[0mcoefficient\u001b[0m \u001b[0;32mif\u001b[0m \u001b[0mcoefficient\u001b[0m \u001b[0;32melse\u001b[0m \u001b[0;36m1\u001b[0m\u001b[0;34m)\u001b[0m\u001b[0;34m\u001b[0m\u001b[0;34m\u001b[0m\u001b[0m\n\u001b[0m\u001b[1;32m    390\u001b[0m \u001b[0;34m\u001b[0m\u001b[0m\n\u001b[1;32m    391\u001b[0m     \u001b[0;31m# Unknown size\u001b[0m\u001b[0;34m\u001b[0m\u001b[0;34m\u001b[0m\u001b[0m\n",
            "\u001b[0;31mTypeError\u001b[0m: can't multiply sequence by non-int of type 'float'"
          ]
        }
      ]
    },
    {
      "cell_type": "markdown",
      "source": [
        "When Dealing More than one SMILE"
      ],
      "metadata": {
        "id": "7vEkEp7XJ5FK"
      }
    },
    {
      "cell_type": "code",
      "source": [
        "from rdkit import Chem\n",
        "from rdkit.Chem import Draw\n",
        "from PIL import Image\n",
        "\n",
        "# Define the SMILES strings and compound IDs\n",
        "ms_smis = [[\"C1C[C@H](CN(C1)CCCNC(=O)NC2=CC=CC(=C2)C3=NN=CO3)CC4=CC=C(C=C4)F\", \"44289877\"],\n",
        "           [\"C[N+]1=CC=CC(=C1)NC(=O)C2=CC=C(C=C2)NC(=O)C3=CC(=C(C=C3)C(=O)NC4=CC=C(C=C4)C(=O)NC5=C[N+](=CC=C5)C)N\", \"204648\"],\n",
        "           [\"CN1CCN(CC1)C2=CC=C(C=C2)NC(=O)NC3=CC=C(C=C3)C4=NC5=C(C=NN5C6CCN(CC6)C(=O)OC)C(=N4)N7CCOCC7\", \"44233641\"],\n",
        "           [\"CN1CCN(CC1)C2=NC=CC(=C2)C(=O)NC3=NC=C4C=CC(=CC4=C3)C5=CN(N=C5)C\", \"132056570\"],\n",
        "           [\"CC1=CC=C(C=C1)C(=O)NC2=CC(=C(N=C2)N3CCC(CC3)(C(=O)N)N4CCCCC4)C(=O)O\", \"83288403\"]]\n",
        "\n",
        "# Convert the SMILES to RDKit Mol objects and save them as SVG\n",
        "ms = [[Chem.MolFromSmiles(x[0]), x[1]] for x in ms_smis]\n",
        "\n",
        "for m in ms:\n",
        "    # Save each molecule as an SVG file\n",
        "    Draw.MolToFile(m[0], f\"{m[1]}.svg\", size=(800, 800))\n",
        "\n",
        "# Now we want to combine the two SVGs into one PNG image with each boxed\n",
        "# Convert SVG to PNG using PIL (through cairosvg or any SVG-to-PNG converter)\n",
        "# Assuming cairosvg is installed, otherwise you can install it via: !pip install cairosvg\n",
        "\n",
        "import cairosvg\n",
        "\n",
        "# Convert SVG to PNG\n",
        "for m in ms:\n",
        "    cairosvg.svg2png(url=f\"{m[1]}.svg\", write_to=f\"{m[1]}.png\")\n",
        "\n",
        "# Now combine the PNG files into a single image\n",
        "# Open the PNG files\n",
        "imgs = [Image.open(f\"{m[1]}.png\") for m in ms]\n",
        "\n",
        "# Create a blank canvas for combining the images\n",
        "width = sum(img.width for img in imgs)\n",
        "height = max(img.height for img in imgs)\n",
        "\n",
        "# Create a new image with the combined width and max height\n",
        "combined_img = Image.new('RGB', (width, height))\n",
        "\n",
        "# Paste the individual images into the combined image\n",
        "x_offset = 0\n",
        "for img in imgs:\n",
        "    combined_img.paste(img, (x_offset, 0))\n",
        "    x_offset += img.width\n",
        "\n",
        "# Save the combined image as PNG\n",
        "combined_img.save(\"last three combined_molecules.png\", format=\"PNG\")\n",
        "\n",
        "# Display the combined image\n",
        "combined_img.show()\n"
      ],
      "metadata": {
        "id": "b6hmzwVL84ht"
      },
      "execution_count": 6,
      "outputs": []
    },
    {
      "cell_type": "code",
      "source": [
        "from rdkit import Chem\n",
        "from rdkit.Chem import Draw\n",
        "from PIL import Image\n",
        "import cairosvg\n",
        "\n",
        "# Define the SMILES strings and compound IDs\n",
        "ms_smis = [[\"C1C[C@H](CN(C1)CCCNC(=O)NC2=CC=CC(=C2)C3=NN=CO3)CC4=CC=C(C=C4)F\", \"44289877\"],\n",
        "           [\"C[N+]1=CC=CC(=C1)NC(=O)C2=CC=C(C=C2)NC(=O)C3=CC(=C(C=C3)C(=O)NC4=CC=C(C=C4)C(=O)NC5=C[N+](=CC=C5)C)N\", \"204648\"],\n",
        "           [\"CN1CCN(CC1)C2=CC=C(C=C2)NC(=O)NC3=CC=C(C=C3)C4=NC5=C(C=NN5C6CCN(CC6)C(=O)OC)C(=N4)N7CCOCC7\", \"44233641\"],\n",
        "           [\"CN1CCN(CC1)C2=NC=CC(=C2)C(=O)NC3=NC=C4C=CC(=CC4=C3)C5=CN(N=C5)C\", \"132056570\"],\n",
        "           [\"CC1=CC=C(C=C1)C(=O)NC2=CC(=C(N=C2)N3CCC(CC3)(C(=O)N)N4CCCCC4)C(=O)O\", \"83288403\"]]\n",
        "\n",
        "# Convert the SMILES to RDKit Mol objects and save them as SVG\n",
        "ms = [[Chem.MolFromSmiles(x[0]), x[1]] for x in ms_smis]\n",
        "\n",
        "for m in ms:\n",
        "    # Save each molecule as an SVG file\n",
        "    Draw.MolToFile(m[0], f\"{m[1]}.svg\", size=(800, 800))\n",
        "\n",
        "# Convert SVG to PNG\n",
        "for m in ms:\n",
        "    cairosvg.svg2png(url=f\"{m[1]}.svg\", write_to=f\"{m[1]}.png\")\n",
        "\n",
        "# Now combine the PNG files into a single image\n",
        "# Open the PNG files\n",
        "imgs = [Image.open(f\"{m[1]}.png\") for m in ms]\n",
        "\n",
        "# Create a blank canvas for combining the images\n",
        "width = sum(img.width for img in imgs)\n",
        "height = max(img.height for img in imgs)\n",
        "\n",
        "# Create a new image with the combined width and max height\n",
        "combined_img = Image.new('RGB', (width, height))\n",
        "\n",
        "# Paste the individual images into the combined image\n",
        "x_offset = 0\n",
        "for img in imgs:\n",
        "    combined_img.paste(img, (x_offset, 0))\n",
        "    x_offset += img.width\n",
        "\n",
        "# Save the combined image as PNG with 600 DPI\n",
        "combined_img.save(\"first three combined_molecules_600dpi.png\", format=\"PNG\", dpi=(600, 600))\n",
        "\n",
        "# Display the combined image\n",
        "combined_img.show()\n"
      ],
      "metadata": {
        "id": "cZjwSnlj_wmF"
      },
      "execution_count": 7,
      "outputs": []
    },
    {
      "cell_type": "code",
      "source": [
        "#!pip install rdkit-pypi\n",
        "#!pip install pillow  # Ensure PIL (Pillow) is installed\n",
        "\n",
        "from rdkit import Chem\n",
        "from rdkit.Chem import Draw\n",
        "from PIL import Image\n",
        "import os\n",
        "from google.colab import files\n",
        "\n",
        "# Define your SMILES strings and corresponding PubChem CIDs\n",
        "smiles_list = [\n",
        "    \"C1C[C@H](CN(C1)CCCNC(=O)NC2=CC=CC(=C2)C3=NN=CO3)CC4=CC=C(C=C4)F\",  # Example: Ethanol\n",
        "    \"C[N+]1=CC=CC(=C1)NC(=O)C2=CC=C(C=C2)NC(=O)C3=CC(=C(C=C3)C(=O)NC4=CC=C(C=C4)C(=O)NC5=C[N+](=CC=C5)C)N\",  # Example: Benzene\n",
        "    \"CN1CCN(CC1)C2=CC=C(C=C2)NC(=O)NC3=CC=C(C=C3)C4=NC5=C(C=NN5C6CCN(CC6)C(=O)OC)C(=N4)N7CCOCC7\",  # Example: Acetic acid\n",
        "    \"CN1CCN(CC1)C2=NC=CC(=C2)C(=O)NC3=NC=C4C=CC(=CC4=C3)C5=CN(N=C5)C\",  # Example: Cyclohexane\n",
        "    \"CC1=CC=C(C=C1)C(=O)NC2=CC(=C(N=C2)N3CCC(CC3)(C(=O)N)N4CCCCC4)C(=O)O\"  # Example: Caffeine\n",
        "]\n",
        "\n",
        "pubchem_cids = [\n",
        "    \"44289877\",  # Ethanol\n",
        "    \"204648\",  # Benzene\n",
        "    \"44233641\",  # Acetic acid\n",
        "    \"132056570\",  # Cyclohexane\n",
        "    \"83288403\"  # Caffeine\n",
        "]\n",
        "\n",
        "# Convert SMILES to molecules\n",
        "molecules = [Chem.MolFromSmiles(smiles) for smiles in smiles_list]\n",
        "\n",
        "# Create a directory to save individual molecule images\n",
        "os.makedirs(\"molecule_images\", exist_ok=True)\n",
        "\n",
        "# Save each molecule as an individual image\n",
        "for i, (mol, cid) in enumerate(zip(molecules, pubchem_cids)):\n",
        "    Draw.MolToFile(mol, f\"molecule_images/mol_{i+1}.png\", legend=f\"CID: {cid}\", size=(300, 300))\n",
        "\n",
        "# Combine individual images into a grid using PIL\n",
        "images = [Image.open(f\"molecule_images/mol_{i+1}.png\") for i in range(len(molecules))]\n",
        "\n",
        "# Create a blank canvas to combine images\n",
        "grid_size = (3, 2)  # 3 columns, 2 rows (adjust as needed)\n",
        "image_size = (300, 300)  # Size of each molecule image\n",
        "grid_width = grid_size[0] * image_size[0]\n",
        "grid_height = grid_size[1] * image_size[1]\n",
        "grid_image = Image.new(\"RGB\", (grid_width, grid_height), \"white\")\n",
        "\n",
        "# Paste individual images into the grid\n",
        "for i, img in enumerate(images):\n",
        "    row = i // grid_size[0]\n",
        "    col = i % grid_size[0]\n",
        "    grid_image.paste(img, (col * image_size[0], row * image_size[1]))\n",
        "\n",
        "# Save the final grid image\n",
        "grid_image.save(\"molecules_with_cid.png\", dpi=(600, 600))\n",
        "\n",
        "# Download the image\n",
        "files.download(\"molecules_with_cid.png\")"
      ],
      "metadata": {
        "id": "OtMpDpIEGs1k",
        "outputId": "97b67d46-11fe-4b99-b30a-073ae9dec8cd",
        "colab": {
          "base_uri": "https://localhost:8080/",
          "height": 17
        }
      },
      "execution_count": 10,
      "outputs": [
        {
          "output_type": "display_data",
          "data": {
            "text/plain": [
              "<IPython.core.display.Javascript object>"
            ],
            "application/javascript": [
              "\n",
              "    async function download(id, filename, size) {\n",
              "      if (!google.colab.kernel.accessAllowed) {\n",
              "        return;\n",
              "      }\n",
              "      const div = document.createElement('div');\n",
              "      const label = document.createElement('label');\n",
              "      label.textContent = `Downloading \"${filename}\": `;\n",
              "      div.appendChild(label);\n",
              "      const progress = document.createElement('progress');\n",
              "      progress.max = size;\n",
              "      div.appendChild(progress);\n",
              "      document.body.appendChild(div);\n",
              "\n",
              "      const buffers = [];\n",
              "      let downloaded = 0;\n",
              "\n",
              "      const channel = await google.colab.kernel.comms.open(id);\n",
              "      // Send a message to notify the kernel that we're ready.\n",
              "      channel.send({})\n",
              "\n",
              "      for await (const message of channel.messages) {\n",
              "        // Send a message to notify the kernel that we're ready.\n",
              "        channel.send({})\n",
              "        if (message.buffers) {\n",
              "          for (const buffer of message.buffers) {\n",
              "            buffers.push(buffer);\n",
              "            downloaded += buffer.byteLength;\n",
              "            progress.value = downloaded;\n",
              "          }\n",
              "        }\n",
              "      }\n",
              "      const blob = new Blob(buffers, {type: 'application/binary'});\n",
              "      const a = document.createElement('a');\n",
              "      a.href = window.URL.createObjectURL(blob);\n",
              "      a.download = filename;\n",
              "      div.appendChild(a);\n",
              "      a.click();\n",
              "      div.remove();\n",
              "    }\n",
              "  "
            ]
          },
          "metadata": {}
        },
        {
          "output_type": "display_data",
          "data": {
            "text/plain": [
              "<IPython.core.display.Javascript object>"
            ],
            "application/javascript": [
              "download(\"download_1382f8dc-d061-4550-b8db-9d5dca08090e\", \"molecules_with_cid.png\", 61977)"
            ]
          },
          "metadata": {}
        }
      ]
    },
    {
      "cell_type": "code",
      "source": [
        "#!pip install rdkit-pypi\n",
        "#!pip install pillow  # Ensure PIL (Pillow) is installed\n",
        "\n",
        "from rdkit import Chem\n",
        "from rdkit.Chem import Draw\n",
        "from PIL import Image, ImageDraw, ImageFont\n",
        "import os\n",
        "from google.colab import files\n",
        "\n",
        "# Define your SMILES strings, corresponding PubChem CIDs, and predicted pIC50 values\n",
        "smiles_list = [\n",
        "    \"C1C[C@H](CN(C1)CCCNC(=O)NC2=CC=CC(=C2)C3=NN=CO3)CC4=CC=C(C=C4)F\",  # Example: Ethanol\n",
        "    \"C[N+]1=CC=CC(=C1)NC(=O)C2=CC=C(C=C2)NC(=O)C3=CC(=C(C=C3)C(=O)NC4=CC=C(C=C4)C(=O)NC5=C[N+](=CC=C5)C)N\",  # Example: Benzene\n",
        "    \"CN1CCN(CC1)C2=CC=C(C=C2)NC(=O)NC3=CC=C(C=C3)C4=NC5=C(C=NN5C6CCN(CC6)C(=O)OC)C(=N4)N7CCOCC7\",  # Example: Acetic acid\n",
        "    \"CN1CCN(CC1)C2=NC=CC(=C2)C(=O)NC3=NC=C4C=CC(=CC4=C3)C5=CN(N=C5)C\",  # Example: Cyclohexane\n",
        "    \"CC1=CC=C(C=C1)C(=O)NC2=CC(=C(N=C2)N3CCC(CC3)(C(=O)N)N4CCCCC4)C(=O)O\"  # Example: Caffeine\n",
        "]\n",
        "\n",
        "pubchem_cids = [\n",
        "    \"44289877\",  # Ethanol\n",
        "    \"204648\",  # Benzene\n",
        "    \"44233641\",  # Acetic acid\n",
        "    \"132056570\",  # Cyclohexane\n",
        "    \"83288403\"  # Caffeine\n",
        "]\n",
        "\n",
        "predicted_pIC50_values = [\n",
        "    18.8,  # Predicted pIC50 for Ethanol\n",
        "    18.3,  # Predicted pIC50 for Benzene\n",
        "    18.6,  # Predicted pIC50 for Acetic acid\n",
        "    18.4,  # Predicted pIC50 for Cyclohexane\n",
        "    18.4   # Predicted pIC50 for Caffeine\n",
        "]\n",
        "\n",
        "# Convert SMILES to molecules\n",
        "molecules = [Chem.MolFromSmiles(smiles) for smiles in smiles_list]\n",
        "\n",
        "# Create a directory to save individual molecule images\n",
        "os.makedirs(\"molecule_images\", exist_ok=True)\n",
        "\n",
        "# Save each molecule as an individual image with CID in the legend\n",
        "for i, (mol, cid, pIC50) in enumerate(zip(molecules, pubchem_cids, predicted_pIC50_values)):\n",
        "    # Draw the molecule image\n",
        "    img = Draw.MolToImage(mol, legend=f\"CID: {cid}\", size=(600, 600))\n",
        "\n",
        "    # Convert to PIL Image\n",
        "    pil_img = Image.frombytes('RGB', img.size, img.tobytes())\n",
        "\n",
        "    # Add pIC50 value on top of the image\n",
        "    draw = ImageDraw.Draw(pil_img)\n",
        "    try:\n",
        "        font = ImageFont.truetype(\"arial.ttf\", size=20)  # Use a custom font if available\n",
        "    except:\n",
        "        font = ImageFont.load_default()  # Fallback to default font\n",
        "    text = f\"Predicted pIC50: {pIC50}\"\n",
        "\n",
        "    # Calculate text size using textbbox\n",
        "    bbox = draw.textbbox((0, 0), text, font=font)\n",
        "    text_width = bbox[2] - bbox[0]\n",
        "    text_height = bbox[3] - bbox[1]\n",
        "\n",
        "    # Position the text at the top center of the image\n",
        "    text_position = ((pil_img.width - text_width) // 2, 10)  # Center the text at the top\n",
        "    draw.text(text_position, text, fill=\"black\", font=font)\n",
        "\n",
        "    # Save the modified image\n",
        "    pil_img.save(f\"molecule_images/mol_{i+1}.png\")\n",
        "\n",
        "# Combine individual images into a grid using PIL\n",
        "images = [Image.open(f\"molecule_images/mol_{i+1}.png\") for i in range(len(molecules))]\n",
        "\n",
        "# Create a blank canvas to combine images\n",
        "grid_size = (3, 2)  # 3 columns, 2 rows (adjust as needed)\n",
        "image_size = (600, 600)  # Size of each molecule image\n",
        "grid_width = grid_size[0] * image_size[0]\n",
        "grid_height = grid_size[1] * image_size[1]\n",
        "grid_image = Image.new(\"RGB\", (grid_width, grid_height), \"white\")\n",
        "\n",
        "# Paste individual images into the grid\n",
        "for i, img in enumerate(images):\n",
        "    row = i // grid_size[0]\n",
        "    col = i % grid_size[0]\n",
        "    grid_image.paste(img, (col * image_size[0], row * image_size[1]))\n",
        "\n",
        "# Save the final grid image\n",
        "grid_image.save(\"molecules_with_cid_and_pIC50.png\", dpi=(600, 600))\n",
        "\n",
        "# Download the image\n",
        "files.download(\"molecules_with_cid_and_pIC50.png\")"
      ],
      "metadata": {
        "id": "Qe7BC0FDMAqi",
        "outputId": "03d220fb-b989-41e4-b886-c5bbe7fd2d74",
        "colab": {
          "base_uri": "https://localhost:8080/",
          "height": 17
        }
      },
      "execution_count": 18,
      "outputs": [
        {
          "output_type": "display_data",
          "data": {
            "text/plain": [
              "<IPython.core.display.Javascript object>"
            ],
            "application/javascript": [
              "\n",
              "    async function download(id, filename, size) {\n",
              "      if (!google.colab.kernel.accessAllowed) {\n",
              "        return;\n",
              "      }\n",
              "      const div = document.createElement('div');\n",
              "      const label = document.createElement('label');\n",
              "      label.textContent = `Downloading \"${filename}\": `;\n",
              "      div.appendChild(label);\n",
              "      const progress = document.createElement('progress');\n",
              "      progress.max = size;\n",
              "      div.appendChild(progress);\n",
              "      document.body.appendChild(div);\n",
              "\n",
              "      const buffers = [];\n",
              "      let downloaded = 0;\n",
              "\n",
              "      const channel = await google.colab.kernel.comms.open(id);\n",
              "      // Send a message to notify the kernel that we're ready.\n",
              "      channel.send({})\n",
              "\n",
              "      for await (const message of channel.messages) {\n",
              "        // Send a message to notify the kernel that we're ready.\n",
              "        channel.send({})\n",
              "        if (message.buffers) {\n",
              "          for (const buffer of message.buffers) {\n",
              "            buffers.push(buffer);\n",
              "            downloaded += buffer.byteLength;\n",
              "            progress.value = downloaded;\n",
              "          }\n",
              "        }\n",
              "      }\n",
              "      const blob = new Blob(buffers, {type: 'application/binary'});\n",
              "      const a = document.createElement('a');\n",
              "      a.href = window.URL.createObjectURL(blob);\n",
              "      a.download = filename;\n",
              "      div.appendChild(a);\n",
              "      a.click();\n",
              "      div.remove();\n",
              "    }\n",
              "  "
            ]
          },
          "metadata": {}
        },
        {
          "output_type": "display_data",
          "data": {
            "text/plain": [
              "<IPython.core.display.Javascript object>"
            ],
            "application/javascript": [
              "download(\"download_59e268f9-3aa0-4801-8940-07ca14363975\", \"molecules_with_cid_and_pIC50.png\", 133327)"
            ]
          },
          "metadata": {}
        }
      ]
    }
  ]
}