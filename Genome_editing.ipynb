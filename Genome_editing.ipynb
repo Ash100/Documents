{
  "nbformat": 4,
  "nbformat_minor": 0,
  "metadata": {
    "colab": {
      "provenance": [],
      "authorship_tag": "ABX9TyPq4x+jFsLWj3eTyazxunN+",
      "include_colab_link": true
    },
    "kernelspec": {
      "name": "python3",
      "display_name": "Python 3"
    },
    "language_info": {
      "name": "python"
    },
    "widgets": {
      "application/vnd.jupyter.widget-state+json": {
        "57533a34afb944d2846c29324de754d5": {
          "model_module": "@jupyter-widgets/controls",
          "model_name": "TextModel",
          "model_module_version": "1.5.0",
          "state": {
            "_dom_classes": [],
            "_model_module": "@jupyter-widgets/controls",
            "_model_module_version": "1.5.0",
            "_model_name": "TextModel",
            "_view_count": null,
            "_view_module": "@jupyter-widgets/controls",
            "_view_module_version": "1.5.0",
            "_view_name": "TextView",
            "continuous_update": true,
            "description": "Accession:",
            "description_tooltip": null,
            "disabled": false,
            "layout": "IPY_MODEL_8d386edeb03d47edb637bdf4b5076d1b",
            "placeholder": "Enter NCBI Accession",
            "style": "IPY_MODEL_b7950e7e56b64a4080ab58973e056503",
            "value": "NC_000913.3"
          }
        },
        "8d386edeb03d47edb637bdf4b5076d1b": {
          "model_module": "@jupyter-widgets/base",
          "model_name": "LayoutModel",
          "model_module_version": "1.2.0",
          "state": {
            "_model_module": "@jupyter-widgets/base",
            "_model_module_version": "1.2.0",
            "_model_name": "LayoutModel",
            "_view_count": null,
            "_view_module": "@jupyter-widgets/base",
            "_view_module_version": "1.2.0",
            "_view_name": "LayoutView",
            "align_content": null,
            "align_items": null,
            "align_self": null,
            "border": null,
            "bottom": null,
            "display": null,
            "flex": null,
            "flex_flow": null,
            "grid_area": null,
            "grid_auto_columns": null,
            "grid_auto_flow": null,
            "grid_auto_rows": null,
            "grid_column": null,
            "grid_gap": null,
            "grid_row": null,
            "grid_template_areas": null,
            "grid_template_columns": null,
            "grid_template_rows": null,
            "height": null,
            "justify_content": null,
            "justify_items": null,
            "left": null,
            "margin": null,
            "max_height": null,
            "max_width": null,
            "min_height": null,
            "min_width": null,
            "object_fit": null,
            "object_position": null,
            "order": null,
            "overflow": null,
            "overflow_x": null,
            "overflow_y": null,
            "padding": null,
            "right": null,
            "top": null,
            "visibility": null,
            "width": null
          }
        },
        "b7950e7e56b64a4080ab58973e056503": {
          "model_module": "@jupyter-widgets/controls",
          "model_name": "DescriptionStyleModel",
          "model_module_version": "1.5.0",
          "state": {
            "_model_module": "@jupyter-widgets/controls",
            "_model_module_version": "1.5.0",
            "_model_name": "DescriptionStyleModel",
            "_view_count": null,
            "_view_module": "@jupyter-widgets/base",
            "_view_module_version": "1.2.0",
            "_view_name": "StyleView",
            "description_width": ""
          }
        },
        "57fe172bb9bf4a988baed5004b8e82a0": {
          "model_module": "@jupyter-widgets/controls",
          "model_name": "TextModel",
          "model_module_version": "1.5.0",
          "state": {
            "_dom_classes": [],
            "_model_module": "@jupyter-widgets/controls",
            "_model_module_version": "1.5.0",
            "_model_name": "TextModel",
            "_view_count": null,
            "_view_module": "@jupyter-widgets/controls",
            "_view_module_version": "1.5.0",
            "_view_name": "TextView",
            "continuous_update": true,
            "description": "PAM:",
            "description_tooltip": null,
            "disabled": false,
            "layout": "IPY_MODEL_6da9231de73e4ee497e3618927b84a21",
            "placeholder": "e.g., NGG",
            "style": "IPY_MODEL_5566afc7b688416abd45e607aebf2b6e",
            "value": "NGG"
          }
        },
        "6da9231de73e4ee497e3618927b84a21": {
          "model_module": "@jupyter-widgets/base",
          "model_name": "LayoutModel",
          "model_module_version": "1.2.0",
          "state": {
            "_model_module": "@jupyter-widgets/base",
            "_model_module_version": "1.2.0",
            "_model_name": "LayoutModel",
            "_view_count": null,
            "_view_module": "@jupyter-widgets/base",
            "_view_module_version": "1.2.0",
            "_view_name": "LayoutView",
            "align_content": null,
            "align_items": null,
            "align_self": null,
            "border": null,
            "bottom": null,
            "display": null,
            "flex": null,
            "flex_flow": null,
            "grid_area": null,
            "grid_auto_columns": null,
            "grid_auto_flow": null,
            "grid_auto_rows": null,
            "grid_column": null,
            "grid_gap": null,
            "grid_row": null,
            "grid_template_areas": null,
            "grid_template_columns": null,
            "grid_template_rows": null,
            "height": null,
            "justify_content": null,
            "justify_items": null,
            "left": null,
            "margin": null,
            "max_height": null,
            "max_width": null,
            "min_height": null,
            "min_width": null,
            "object_fit": null,
            "object_position": null,
            "order": null,
            "overflow": null,
            "overflow_x": null,
            "overflow_y": null,
            "padding": null,
            "right": null,
            "top": null,
            "visibility": null,
            "width": null
          }
        },
        "5566afc7b688416abd45e607aebf2b6e": {
          "model_module": "@jupyter-widgets/controls",
          "model_name": "DescriptionStyleModel",
          "model_module_version": "1.5.0",
          "state": {
            "_model_module": "@jupyter-widgets/controls",
            "_model_module_version": "1.5.0",
            "_model_name": "DescriptionStyleModel",
            "_view_count": null,
            "_view_module": "@jupyter-widgets/base",
            "_view_module_version": "1.2.0",
            "_view_name": "StyleView",
            "description_width": ""
          }
        },
        "ced29860e03049739f526408f011b075": {
          "model_module": "@jupyter-widgets/controls",
          "model_name": "IntSliderModel",
          "model_module_version": "1.5.0",
          "state": {
            "_dom_classes": [],
            "_model_module": "@jupyter-widgets/controls",
            "_model_module_version": "1.5.0",
            "_model_name": "IntSliderModel",
            "_view_count": null,
            "_view_module": "@jupyter-widgets/controls",
            "_view_module_version": "1.5.0",
            "_view_name": "IntSliderView",
            "continuous_update": true,
            "description": "gRNA Length:",
            "description_tooltip": null,
            "disabled": false,
            "layout": "IPY_MODEL_3068d95d6ac244bd88a643bf821f874a",
            "max": 23,
            "min": 18,
            "orientation": "horizontal",
            "readout": true,
            "readout_format": "d",
            "step": 1,
            "style": "IPY_MODEL_3299c8925a02474699d204765015e3f4",
            "value": 21
          }
        },
        "3068d95d6ac244bd88a643bf821f874a": {
          "model_module": "@jupyter-widgets/base",
          "model_name": "LayoutModel",
          "model_module_version": "1.2.0",
          "state": {
            "_model_module": "@jupyter-widgets/base",
            "_model_module_version": "1.2.0",
            "_model_name": "LayoutModel",
            "_view_count": null,
            "_view_module": "@jupyter-widgets/base",
            "_view_module_version": "1.2.0",
            "_view_name": "LayoutView",
            "align_content": null,
            "align_items": null,
            "align_self": null,
            "border": null,
            "bottom": null,
            "display": null,
            "flex": null,
            "flex_flow": null,
            "grid_area": null,
            "grid_auto_columns": null,
            "grid_auto_flow": null,
            "grid_auto_rows": null,
            "grid_column": null,
            "grid_gap": null,
            "grid_row": null,
            "grid_template_areas": null,
            "grid_template_columns": null,
            "grid_template_rows": null,
            "height": null,
            "justify_content": null,
            "justify_items": null,
            "left": null,
            "margin": null,
            "max_height": null,
            "max_width": null,
            "min_height": null,
            "min_width": null,
            "object_fit": null,
            "object_position": null,
            "order": null,
            "overflow": null,
            "overflow_x": null,
            "overflow_y": null,
            "padding": null,
            "right": null,
            "top": null,
            "visibility": null,
            "width": null
          }
        },
        "3299c8925a02474699d204765015e3f4": {
          "model_module": "@jupyter-widgets/controls",
          "model_name": "SliderStyleModel",
          "model_module_version": "1.5.0",
          "state": {
            "_model_module": "@jupyter-widgets/controls",
            "_model_module_version": "1.5.0",
            "_model_name": "SliderStyleModel",
            "_view_count": null,
            "_view_module": "@jupyter-widgets/base",
            "_view_module_version": "1.2.0",
            "_view_name": "StyleView",
            "description_width": "",
            "handle_color": null
          }
        },
        "3767bb13069b498795617aaad759b3e8": {
          "model_module": "@jupyter-widgets/controls",
          "model_name": "FloatRangeSliderModel",
          "model_module_version": "1.5.0",
          "state": {
            "_dom_classes": [],
            "_model_module": "@jupyter-widgets/controls",
            "_model_module_version": "1.5.0",
            "_model_name": "FloatRangeSliderModel",
            "_view_count": null,
            "_view_module": "@jupyter-widgets/controls",
            "_view_module_version": "1.5.0",
            "_view_name": "FloatRangeSliderView",
            "continuous_update": true,
            "description": "GC Range:",
            "description_tooltip": null,
            "disabled": false,
            "layout": "IPY_MODEL_4c88c64d38e74464a6d1b0b9e55a84b3",
            "max": 100,
            "min": 0,
            "orientation": "horizontal",
            "readout": true,
            "readout_format": ".2f",
            "step": 1,
            "style": "IPY_MODEL_a7c1921313334b028a7c7a8d3b59d90e",
            "value": [
              40,
              60
            ]
          }
        },
        "4c88c64d38e74464a6d1b0b9e55a84b3": {
          "model_module": "@jupyter-widgets/base",
          "model_name": "LayoutModel",
          "model_module_version": "1.2.0",
          "state": {
            "_model_module": "@jupyter-widgets/base",
            "_model_module_version": "1.2.0",
            "_model_name": "LayoutModel",
            "_view_count": null,
            "_view_module": "@jupyter-widgets/base",
            "_view_module_version": "1.2.0",
            "_view_name": "LayoutView",
            "align_content": null,
            "align_items": null,
            "align_self": null,
            "border": null,
            "bottom": null,
            "display": null,
            "flex": null,
            "flex_flow": null,
            "grid_area": null,
            "grid_auto_columns": null,
            "grid_auto_flow": null,
            "grid_auto_rows": null,
            "grid_column": null,
            "grid_gap": null,
            "grid_row": null,
            "grid_template_areas": null,
            "grid_template_columns": null,
            "grid_template_rows": null,
            "height": null,
            "justify_content": null,
            "justify_items": null,
            "left": null,
            "margin": null,
            "max_height": null,
            "max_width": null,
            "min_height": null,
            "min_width": null,
            "object_fit": null,
            "object_position": null,
            "order": null,
            "overflow": null,
            "overflow_x": null,
            "overflow_y": null,
            "padding": null,
            "right": null,
            "top": null,
            "visibility": null,
            "width": null
          }
        },
        "a7c1921313334b028a7c7a8d3b59d90e": {
          "model_module": "@jupyter-widgets/controls",
          "model_name": "SliderStyleModel",
          "model_module_version": "1.5.0",
          "state": {
            "_model_module": "@jupyter-widgets/controls",
            "_model_module_version": "1.5.0",
            "_model_name": "SliderStyleModel",
            "_view_count": null,
            "_view_module": "@jupyter-widgets/base",
            "_view_module_version": "1.2.0",
            "_view_name": "StyleView",
            "description_width": "",
            "handle_color": null
          }
        }
      }
    }
  },
  "cells": [
    {
      "cell_type": "markdown",
      "metadata": {
        "id": "view-in-github",
        "colab_type": "text"
      },
      "source": [
        "<a href=\"https://colab.research.google.com/github/Ash100/Documents/blob/main/Genome_editing.ipynb\" target=\"_parent\"><img src=\"https://colab.research.google.com/assets/colab-badge.svg\" alt=\"Open In Colab\"/></a>"
      ]
    },
    {
      "cell_type": "markdown",
      "source": [
        "# 🧬 Fundamentals of Genome Editing and gRNA Design\n",
        "Author: **Dr. Ashfaq Ahmad**\n",
        "\n",
        "This notebook demonstration provides a practical demonstration of fundamental steps in genome editing, focusing on acquiring and manipulating DNA sequences, and then designing guide RNAs (gRNAs) for CRISPR-Cas9 systems.\n",
        "\n",
        "---\n",
        "\n",
        "## 📑 Table of Contents\n",
        "1. [Sequence Acquisition and Manipulation](#sequence-acquisition-and-manipulation)  \n",
        "    1.1. [Fetching a DNA Sequence from NCBI](#fetching-a-dna-sequence-from-ncbi)  \n",
        "    1.2. [Basic Sequence Operations](#basic-sequence-operations)  \n",
        "2. [Guide RNA (gRNA) Design](#guide-rna-grna-design)  \n",
        "    2.1. [Identifying PAM Sites and Target Sequences](#identifying-pam-sites-and-target-sequences)  \n",
        "    2.2. [gRNA Structure and Candidates](#grna-structure-and-candidates)  \n",
        "    2.3. [Simplified Off-Target Consideration](#simplified-off-target-consideration)  \n",
        "    2.4. [Simplified On-Target Efficiency (Conceptual)](#simplified-on-target-efficiency-conceptual)"
      ],
      "metadata": {
        "id": "7GXrkCt5Vw2_"
      }
    },
    {
      "cell_type": "markdown",
      "source": [
        "**1. Setup and Dependencies**\n",
        "\n",
        "Before we begin, we need to install the necessary Python libraries. Biopython is essential for handling biological sequences and interacting with online databases. pandas will be useful for organizing our gRNA candidates, and matplotlib for any potential visualizations."
      ],
      "metadata": {
        "id": "eBVT--20YybN"
      }
    },
    {
      "cell_type": "code",
      "execution_count": null,
      "metadata": {
        "id": "MPWHwMLyVvPs"
      },
      "outputs": [],
      "source": [
        "# Install necessary packages\n",
        "!pip install biopython matplotlib"
      ]
    },
    {
      "cell_type": "code",
      "source": [
        "# Import required libraries\n",
        "from Bio import Entrez, SeqIO, Seq\n",
        "import matplotlib.pyplot as plt\n",
        "import re\n",
        "import os\n",
        "\n",
        "# Set email for NCBI Entrez\n",
        "Entrez.email = \"abc#gmail.com\""
      ],
      "metadata": {
        "id": "1VpUyBGXwLuL"
      },
      "execution_count": 14,
      "outputs": []
    },
    {
      "cell_type": "markdown",
      "source": [
        "**2. Sequence Acquisition and Manipulation**\n",
        "\n",
        "In this section, we will acquire a DNA sequence, typically a gene or a genomic region of interest, from the NCBI database. We'll then perform some basic manipulations and analyses on this sequence."
      ],
      "metadata": {
        "id": "o07gyemEXB_l"
      }
    },
    {
      "cell_type": "markdown",
      "source": [
        "**Instructions on Fetching a DNA Sequence from NCBI**\n",
        "\n",
        "We'll use Biopython's Entrez module to search and fetch a DNA sequence. You'll need to provide an email address for Entrez access. For this example, let's fetch the human HBB (Beta globin) gene, which is a common target in genetic studies.\n",
        "\n",
        "Note: Always replace \"your.email@example.com\" with your actual email address."
      ],
      "metadata": {
        "id": "FD8FHimyZnFF"
      }
    },
    {
      "cell_type": "code",
      "source": [
        "# Example: Fetch sequence using NCBI accession number\n",
        "def fetch_sequence(accession):\n",
        "    handle = Entrez.efetch(db=\"nucleotide\", id=accession, rettype=\"fasta\", retmode=\"text\")\n",
        "    record = SeqIO.read(handle, \"fasta\")\n",
        "    handle.close()\n",
        "    return record\n",
        "\n",
        "record = fetch_sequence(\"DQ378290.1\")  # Example: Drosophila virilis EGFR\n",
        "print(record.description)\n",
        "print(record.seq[:100])  # Preview first 100 bases"
      ],
      "metadata": {
        "colab": {
          "base_uri": "https://localhost:8080/"
        },
        "id": "LoGqd627XRbE",
        "outputId": "3a8daaca-6051-46a0-99fd-c8390fb796e3"
      },
      "execution_count": 16,
      "outputs": [
        {
          "output_type": "stream",
          "name": "stdout",
          "text": [
            "DQ378290.1 Drosophila virilis strain Tucson 15010-1001.10 fosmid 10J19, complete sequence\n",
            "GATCTTTTGTTTTCTTTAAAGTTCTAAGAAGACATGTTGCCCTGAACATCTAAAATAGAGATTTTCTAGATTTTTTTACGAGAGTCTGTAGTAGATAGAC\n"
          ]
        }
      ]
    },
    {
      "cell_type": "markdown",
      "source": [
        "Let's perform basic sequence operations such as computing the reverse complement, transcription, and GC content.\n"
      ],
      "metadata": {
        "id": "TZIuFBezwevl"
      }
    },
    {
      "cell_type": "code",
      "source": [
        "from Bio.SeqUtils import gc_fraction\n",
        "\n",
        "sequence = record.seq[:34000]  # Work with a small fragment\n",
        "rev_comp = sequence.reverse_complement()\n",
        "transcribed = sequence.transcribe()\n",
        "gc = gc_fraction(sequence) * 100\n",
        "\n",
        "print(f\"Original: {sequence[:50]}\")\n",
        "print(f\"Rev Comp: {rev_comp[:50]}\")\n",
        "print(f\"Transcribed: {transcribed[:50]}\")\n",
        "print(f\"GC Content: {gc:.2f}%\")"
      ],
      "metadata": {
        "colab": {
          "base_uri": "https://localhost:8080/"
        },
        "id": "Kt0RD1xKweCE",
        "outputId": "2fd922dc-73b8-4524-98d2-3a2509fb99ca"
      },
      "execution_count": 21,
      "outputs": [
        {
          "output_type": "stream",
          "name": "stdout",
          "text": [
            "Original: GATCTTTTGTTTTCTTTAAAGTTCTAAGAAGACATGTTGCCCTGAACATC\n",
            "Rev Comp: CGTATTTACCTCGACTCATATCTGTATCTGTATCTGTGTCTGTATCTGTA\n",
            "Transcribed: GAUCUUUUGUUUUCUUUAAAGUUCUAAGAAGACAUGUUGCCCUGAACAUC\n",
            "GC Content: 44.29%\n"
          ]
        }
      ]
    },
    {
      "cell_type": "markdown",
      "source": [
        "2. Guide RNA (gRNA) Design\n",
        "2.1 Identifying PAM Sites and Target Sequences\n",
        "In CRISPR-Cas9, the PAM sequence is typically 'NGG' (where N = any nucleotide). Let's identify candidate target sequences (20 bp upstream of PAM)."
      ],
      "metadata": {
        "id": "gorI2runwsfb"
      }
    },
    {
      "cell_type": "code",
      "source": [
        "#@title Forward Strand only\n",
        "import re\n",
        "\n",
        "def find_pam_sites(seq, guide_length=20):\n",
        "    \"\"\"\n",
        "    Find CRISPR gRNA targets on the forward strand with NGG PAM.\n",
        "    Returns a list of (gRNA, start, end) tuples.\n",
        "    \"\"\"\n",
        "    seq_str = str(seq).upper()\n",
        "    candidates = []\n",
        "\n",
        "    for i in range(len(seq_str) - guide_length - 3):\n",
        "        guide = seq_str[i:i + guide_length]\n",
        "        pam = seq_str[i + guide_length:i + guide_length + 3]\n",
        "        if re.match(r'^[ACGT]GG$', pam):  # Matches NGG\n",
        "            start = i + 1  # 1-based\n",
        "            end = i + guide_length\n",
        "            candidates.append((guide, start, end))\n",
        "\n",
        "    return candidates"
      ],
      "metadata": {
        "id": "2JLGNS-5wzDL"
      },
      "execution_count": 31,
      "outputs": []
    },
    {
      "cell_type": "code",
      "source": [
        "# Analyze first 2000 bases of your sequence\n",
        "sequence = record.seq[:2000]\n",
        "\n",
        "candidates = find_pam_sites(sequence)\n",
        "print(f\"Found {len(candidates)} potential gRNAs on forward strand\\n\")\n",
        "\n",
        "# Display first 5 results with positions\n",
        "for gRNA, start, end in candidates[:5]:\n",
        "    print(f\"gRNA: {gRNA}\\nStart: {start}\\tEnd: {end}\\n{'-'*40}\")"
      ],
      "metadata": {
        "colab": {
          "base_uri": "https://localhost:8080/"
        },
        "id": "CxRMhu_M2HT8",
        "outputId": "1e1a364c-e3bf-4180-bee3-355f5f906f54"
      },
      "execution_count": 32,
      "outputs": [
        {
          "output_type": "stream",
          "name": "stdout",
          "text": [
            "Found 78 potential gRNAs on forward strand\n",
            "\n",
            "gRNA: TAGTAGATAGACTTTTAGCT\n",
            "Start: 89\tEnd: 108\n",
            "----------------------------------------\n",
            "gRNA: AGTAGATAGACTTTTAGCTC\n",
            "Start: 90\tEnd: 109\n",
            "----------------------------------------\n",
            "gRNA: TAGCTCGGGTTGTCATTTAA\n",
            "Start: 104\tEnd: 123\n",
            "----------------------------------------\n",
            "gRNA: AGCTCGGGTTGTCATTTAAT\n",
            "Start: 105\tEnd: 124\n",
            "----------------------------------------\n",
            "gRNA: TCGGGTTGTCATTTAATGGG\n",
            "Start: 108\tEnd: 127\n",
            "----------------------------------------\n"
          ]
        }
      ]
    },
    {
      "cell_type": "code",
      "source": [
        "\n",
        "import re\n",
        "\n",
        "def find_pam_sites_both_strands(seq, guide_length=20):\n",
        "    \"\"\"\n",
        "    Finds CRISPR gRNA targets followed by NGG PAM on both DNA strands.\n",
        "    Returns a list of tuples: (gRNA sequence, strand, start, end)\n",
        "    \"\"\"\n",
        "    seq_str = str(seq).upper()\n",
        "    rev_seq_str = str(seq.reverse_complement()).upper()\n",
        "    gRNAs = []\n",
        "\n",
        "    # Forward strand\n",
        "    for i in range(len(seq_str) - guide_length - 3):\n",
        "        guide = seq_str[i:i + guide_length]\n",
        "        pam = seq_str[i + guide_length:i + guide_length + 3]\n",
        "        if re.match(r'^[ACGT]GG$', pam):  # PAM = NGG\n",
        "            start = i + 1  # 1-based\n",
        "            end = i + guide_length\n",
        "            gRNAs.append((guide, 'forward', start, end))\n",
        "\n",
        "    # Reverse strand\n",
        "    for i in range(len(rev_seq_str) - guide_length - 3):\n",
        "        guide = rev_seq_str[i:i + guide_length]\n",
        "        pam = rev_seq_str[i + guide_length:i + guide_length + 3]\n",
        "        if re.match(r'^[ACGT]GG$', pam):  # PAM = NGG\n",
        "            # Convert reverse complement coordinates to original\n",
        "            end = len(seq) - i\n",
        "            start = end - guide_length + 1\n",
        "            gRNAs.append((guide, 'reverse', start, end))\n",
        "\n",
        "    return gRNAs\n"
      ],
      "metadata": {
        "id": "FCgl-4de0crF"
      },
      "execution_count": 29,
      "outputs": []
    },
    {
      "cell_type": "code",
      "source": [
        "sequence = record.seq[:2000]  # Limit for demo\n",
        "\n",
        "candidates = find_pam_sites_both_strands(sequence)\n",
        "print(f\"Found {len(candidates)} gRNA candidates on both strands\\n\")\n",
        "\n",
        "# Nicely format the output\n",
        "for gRNA, strand, start, end in candidates[:10]:  # Show first 10\n",
        "    print(f\"gRNA: {gRNA}\\nStrand: {strand}\\nStart: {start}\\tEnd: {end}\\n{'-'*40}\")\n"
      ],
      "metadata": {
        "colab": {
          "base_uri": "https://localhost:8080/"
        },
        "id": "WD5W-bAs1p3k",
        "outputId": "ea5df88a-3672-4540-823c-a6cae96e92ff"
      },
      "execution_count": 30,
      "outputs": [
        {
          "output_type": "stream",
          "name": "stdout",
          "text": [
            "Found 162 gRNA candidates on both strands\n",
            "\n",
            "gRNA: TAGTAGATAGACTTTTAGCT\n",
            "Strand: forward\n",
            "Start: 89\tEnd: 108\n",
            "----------------------------------------\n",
            "gRNA: AGTAGATAGACTTTTAGCTC\n",
            "Strand: forward\n",
            "Start: 90\tEnd: 109\n",
            "----------------------------------------\n",
            "gRNA: TAGCTCGGGTTGTCATTTAA\n",
            "Strand: forward\n",
            "Start: 104\tEnd: 123\n",
            "----------------------------------------\n",
            "gRNA: AGCTCGGGTTGTCATTTAAT\n",
            "Strand: forward\n",
            "Start: 105\tEnd: 124\n",
            "----------------------------------------\n",
            "gRNA: TCGGGTTGTCATTTAATGGG\n",
            "Strand: forward\n",
            "Start: 108\tEnd: 127\n",
            "----------------------------------------\n",
            "gRNA: TTGTCATTTAATGGGCGGCT\n",
            "Strand: forward\n",
            "Start: 113\tEnd: 132\n",
            "----------------------------------------\n",
            "gRNA: TGTCATTTAATGGGCGGCTA\n",
            "Strand: forward\n",
            "Start: 114\tEnd: 133\n",
            "----------------------------------------\n",
            "gRNA: TATATATTATGTTTATAATA\n",
            "Strand: forward\n",
            "Start: 174\tEnd: 193\n",
            "----------------------------------------\n",
            "gRNA: ATATATTATGTTTATAATAA\n",
            "Strand: forward\n",
            "Start: 175\tEnd: 194\n",
            "----------------------------------------\n",
            "gRNA: GTATTGCCTTTTGCTGTTTT\n",
            "Strand: forward\n",
            "Start: 277\tEnd: 296\n",
            "----------------------------------------\n"
          ]
        }
      ]
    },
    {
      "cell_type": "markdown",
      "source": [
        "2.2 gRNA Structure and Candidates\n",
        "\n",
        "Each candidate contains a 20 bp target followed by a PAM. This structure is critical for Cas9 binding.\n",
        "We can visualize the distribution of PAM sites across the sequence."
      ],
      "metadata": {
        "id": "ySzg-oREw-pj"
      }
    },
    {
      "cell_type": "code",
      "source": [
        "import matplotlib.pyplot as plt\n",
        "\n",
        "def plot_gRNA_distribution(seq, candidates):\n",
        "    \"\"\"\n",
        "    Plots gRNA start positions as red ticks along the sequence.\n",
        "    Expects `candidates` as list of (gRNA, start, end) tuples.\n",
        "    \"\"\"\n",
        "    positions = [start for _, start, _ in candidates]  # Extract start positions\n",
        "    plt.figure(figsize=(10, 2))\n",
        "    plt.plot(positions, [1]*len(positions), '|', color='red', markersize=10)\n",
        "    plt.title(\"gRNA Target Sites (Forward Strand)\")\n",
        "    plt.yticks([])\n",
        "    plt.xlabel(\"Nucleotide Position\")\n",
        "    plt.tight_layout()\n",
        "    plt.savefig(\"gRNA_distribution.png\", dpi=600)\n",
        "    plt.show()"
      ],
      "metadata": {
        "id": "13EFENBbxD2z"
      },
      "execution_count": 34,
      "outputs": []
    },
    {
      "cell_type": "code",
      "source": [
        "# After you've run find_pam_sites\n",
        "plot_gRNA_distribution(sequence, candidates)"
      ],
      "metadata": {
        "colab": {
          "base_uri": "https://localhost:8080/",
          "height": 207
        },
        "id": "MTXBuuSJ3rwD",
        "outputId": "570f05f6-d897-4829-eb0d-1345d9f00279"
      },
      "execution_count": 35,
      "outputs": [
        {
          "output_type": "display_data",
          "data": {
            "text/plain": [
              "<Figure size 1000x200 with 1 Axes>"
            ],
            "image/png": "[encoded data removed]"
          },
          "metadata": {}
        }
      ]
    },
    {
      "cell_type": "code",
      "source": [
        "import matplotlib.pyplot as plt\n",
        "\n",
        "def plot_gRNA_distribution_both_strands(seq, candidates):\n",
        "    forward_pos = [start for _, strand, start, _ in candidates if strand == 'forward']\n",
        "    reverse_pos = [start for _, strand, start, _ in candidates if strand == 'reverse']\n",
        "\n",
        "    plt.figure(figsize=(12, 3))\n",
        "    plt.plot(forward_pos, [1]*len(forward_pos), '|', color='red', markersize=12, label='Forward Strand')\n",
        "    plt.plot(reverse_pos, [0]*len(reverse_pos), '|', color='blue', markersize=12, label='Reverse Strand')\n",
        "\n",
        "    plt.yticks([0, 1], [\"Reverse\", \"Forward\"])\n",
        "    plt.xlabel(\"Nucleotide Position\")\n",
        "    plt.title(\"gRNA Target Sites on Both Strands\")\n",
        "    plt.tight_layout()\n",
        "\n",
        "    # Legend outside the plot on the right\n",
        "    plt.legend(loc='upper left', bbox_to_anchor=(1, 1))\n",
        "\n",
        "    plt.savefig(\"gRNA_distribution_both_strands.png\", dpi=600, bbox_inches='tight')  # save with tight bbox to include legend\n",
        "    plt.show()"
      ],
      "metadata": {
        "id": "QwdIl2I936ND"
      },
      "execution_count": 45,
      "outputs": []
    },
    {
      "cell_type": "code",
      "source": [
        "sequence = record.seq[:2000]\n",
        "candidates = find_pam_sites_both_strands(sequence)\n",
        "plot_gRNA_distribution_both_strands(sequence, candidates)"
      ],
      "metadata": {
        "colab": {
          "base_uri": "https://localhost:8080/",
          "height": 307
        },
        "id": "d-NBz1cJ3-79",
        "outputId": "3a3b7a53-573b-4fe2-bb9a-071de69299bb"
      },
      "execution_count": 46,
      "outputs": [
        {
          "output_type": "display_data",
          "data": {
            "text/plain": [
              "<Figure size 1200x300 with 1 Axes>"
            ],
            "image/png": "[encoded data removed]"
          },
          "metadata": {}
        }
      ]
    },
    {
      "cell_type": "markdown",
      "source": [
        "2.3 Simplified Off-Target Consideration\n",
        "Off-targets can occur if similar sequences exist elsewhere. We'll demonstrate a naive method: count number of perfect duplicates in a larger context.\n"
      ],
      "metadata": {
        "id": "fvVrY7hkxIlc"
      }
    },
    {
      "cell_type": "code",
      "source": [
        "def naive_off_target(grna_list, genome_seq, max_off=1):\n",
        "    \"\"\"\n",
        "    Counts exact matches of each gRNA in the genome.\n",
        "    Reports gRNAs with count > max_off (potential off-target risk).\n",
        "    \"\"\"\n",
        "    off_target_counts = []\n",
        "    for grna in grna_list:\n",
        "        count = genome_seq.count(grna)\n",
        "        if count > max_off:\n",
        "            off_target_counts.append((grna, count))\n",
        "    return off_target_counts"
      ],
      "metadata": {
        "id": "IneoCAgLxPdT"
      },
      "execution_count": 56,
      "outputs": []
    },
    {
      "cell_type": "markdown",
      "source": [
        "**Why no off-targets are printed?**\n",
        "1. Our **`max_off`** is set to 2, so only gRNAs that appear 3 or more times will be reported.\n",
        "\n",
        "2. Your genome snippet might be small or unique enough that no gRNA sequence repeats that often exactly.\n",
        "\n",
        "3. The search is exact matches only — no mismatches considered, so off-targets with mismatches won't be detected here.\n",
        "\n",
        "4. If you ran on just a small fragment (like 5000 bp) instead of the full genome, chances for repeats decrease."
      ],
      "metadata": {
        "id": "Ala1j5gz5_sp"
      }
    },
    {
      "cell_type": "markdown",
      "source": [
        "2.4 Simplified On-Target Efficiency (Conceptual)\n",
        "While on-target efficiency is model-based, a simplistic indicator can be GC content of the guide region (ideal range: 40–60%)."
      ],
      "metadata": {
        "id": "yiXDIjuBxUcE"
      }
    },
    {
      "cell_type": "code",
      "source": [
        "def gc_fraction(seq):\n",
        "    seq = seq.upper()\n",
        "    gc_count = seq.count('G') + seq.count('C')\n",
        "    return gc_count / len(seq)"
      ],
      "metadata": {
        "id": "4kIzisAFxZeC"
      },
      "execution_count": 64,
      "outputs": []
    },
    {
      "cell_type": "code",
      "source": [
        "# Extract just sequences from candidates\n",
        "gRNA_sequences = [g[0] for g in candidates]\n",
        "\n",
        "def guide_gc_efficiency(gRNAs):\n",
        "    result = []\n",
        "    for g in gRNAs:\n",
        "        gc = gc_fraction(g) * 100\n",
        "        result.append((g, gc))\n",
        "    return result\n",
        "\n",
        "efficiency_scores = guide_gc_efficiency(gRNA_sequences)\n",
        "filtered = [g for g in efficiency_scores if 40 <= g[1] <= 60]\n",
        "\n",
        "print(f\"{len(filtered)} guides have ideal GC content (40–60%).\")\n",
        "print(filtered[:5])"
      ],
      "metadata": {
        "colab": {
          "base_uri": "https://localhost:8080/"
        },
        "id": "SmxhkljS7f_e",
        "outputId": "f2330e8d-f555-4588-eb3a-116447fe8bd3"
      },
      "execution_count": 68,
      "outputs": [
        {
          "output_type": "stream",
          "name": "stdout",
          "text": [
            "77 guides have ideal GC content (40–60%).\n",
            "[('TAGCTCGGGTTGTCATTTAA', 40.0), ('AGCTCGGGTTGTCATTTAAT', 40.0), ('TCGGGTTGTCATTTAATGGG', 45.0), ('TTGTCATTTAATGGGCGGCT', 45.0), ('TGTCATTTAATGGGCGGCTA', 45.0)]\n"
          ]
        }
      ]
    },
    {
      "cell_type": "markdown",
      "source": [
        "✅ Suggested Enhancements for Professional CRISPR gRNA Design Notebook\n",
        "🧩 1. Interactive Widgets (Using ipywidgets)\n",
        "Purpose: Allow users to:\n",
        "\n",
        "Choose accession number interactively\n",
        "\n",
        "Set gRNA length, PAM type\n",
        "\n",
        "Filter guides by GC content"
      ],
      "metadata": {
        "id": "xdiRX3-7x-HF"
      }
    },
    {
      "cell_type": "code",
      "source": [
        "!pip install ipywidgets\n",
        "import ipywidgets as widgets\n",
        "from IPython.display import display\n",
        "\n",
        "# Accession input\n",
        "accession_widget = widgets.Text(\n",
        "    value='NC_000913.3',\n",
        "    placeholder='Enter NCBI Accession',\n",
        "    description='Accession:',\n",
        "    disabled=False\n",
        ")\n",
        "\n",
        "# PAM pattern\n",
        "pam_widget = widgets.Text(\n",
        "    value='NGG',\n",
        "    placeholder='e.g., NGG',\n",
        "    description='PAM:',\n",
        ")\n",
        "\n",
        "# gRNA length\n",
        "length_widget = widgets.IntSlider(\n",
        "    value=20,\n",
        "    min=18,\n",
        "    max=23,\n",
        "    step=1,\n",
        "    description='gRNA Length:'\n",
        ")\n",
        "\n",
        "# GC filter\n",
        "gc_range_widget = widgets.FloatRangeSlider(\n",
        "    value=[40, 60],\n",
        "    min=0,\n",
        "    max=100,\n",
        "    step=1,\n",
        "    description='GC Range:'\n",
        ")\n",
        "\n",
        "display(accession_widget, pam_widget, length_widget, gc_range_widget)\n"
      ],
      "metadata": {
        "colab": {
          "base_uri": "https://localhost:8080/",
          "height": 1000,
          "referenced_widgets": [
            "57533a34afb944d2846c29324de754d5",
            "8d386edeb03d47edb637bdf4b5076d1b",
            "b7950e7e56b64a4080ab58973e056503",
            "57fe172bb9bf4a988baed5004b8e82a0",
            "6da9231de73e4ee497e3618927b84a21",
            "5566afc7b688416abd45e607aebf2b6e",
            "ced29860e03049739f526408f011b075",
            "3068d95d6ac244bd88a643bf821f874a",
            "3299c8925a02474699d204765015e3f4",
            "3767bb13069b498795617aaad759b3e8",
            "4c88c64d38e74464a6d1b0b9e55a84b3",
            "a7c1921313334b028a7c7a8d3b59d90e"
          ]
        },
        "id": "11QYmtRTyBVG",
        "outputId": "daea52ea-bea4-4305-e37a-2d2fd213aafc"
      },
      "execution_count": 11,
      "outputs": [
        {
          "output_type": "stream",
          "name": "stdout",
          "text": [
            "Requirement already satisfied: ipywidgets in /usr/local/lib/python3.11/dist-packages (7.7.1)\n",
            "Requirement already satisfied: ipykernel>=4.5.1 in /usr/local/lib/python3.11/dist-packages (from ipywidgets) (6.17.1)\n",
            "Requirement already satisfied: ipython-genutils~=0.2.0 in /usr/local/lib/python3.11/dist-packages (from ipywidgets) (0.2.0)\n",
            "Requirement already satisfied: traitlets>=4.3.1 in /usr/local/lib/python3.11/dist-packages (from ipywidgets) (5.7.1)\n",
            "Requirement already satisfied: widgetsnbextension~=3.6.0 in /usr/local/lib/python3.11/dist-packages (from ipywidgets) (3.6.10)\n",
            "Requirement already satisfied: ipython>=4.0.0 in /usr/local/lib/python3.11/dist-packages (from ipywidgets) (7.34.0)\n",
            "Requirement already satisfied: jupyterlab-widgets>=1.0.0 in /usr/local/lib/python3.11/dist-packages (from ipywidgets) (3.0.15)\n",
            "Requirement already satisfied: debugpy>=1.0 in /usr/local/lib/python3.11/dist-packages (from ipykernel>=4.5.1->ipywidgets) (1.8.0)\n",
            "Requirement already satisfied: jupyter-client>=6.1.12 in /usr/local/lib/python3.11/dist-packages (from ipykernel>=4.5.1->ipywidgets) (6.1.12)\n",
            "Requirement already satisfied: matplotlib-inline>=0.1 in /usr/local/lib/python3.11/dist-packages (from ipykernel>=4.5.1->ipywidgets) (0.1.7)\n",
            "Requirement already satisfied: nest-asyncio in /usr/local/lib/python3.11/dist-packages (from ipykernel>=4.5.1->ipywidgets) (1.6.0)\n",
            "Requirement already satisfied: packaging in /usr/local/lib/python3.11/dist-packages (from ipykernel>=4.5.1->ipywidgets) (24.2)\n",
            "Requirement already satisfied: psutil in /usr/local/lib/python3.11/dist-packages (from ipykernel>=4.5.1->ipywidgets) (5.9.5)\n",
            "Requirement already satisfied: pyzmq>=17 in /usr/local/lib/python3.11/dist-packages (from ipykernel>=4.5.1->ipywidgets) (24.0.1)\n",
            "Requirement already satisfied: tornado>=6.1 in /usr/local/lib/python3.11/dist-packages (from ipykernel>=4.5.1->ipywidgets) (6.4.2)\n",
            "Requirement already satisfied: setuptools>=18.5 in /usr/local/lib/python3.11/dist-packages (from ipython>=4.0.0->ipywidgets) (75.2.0)\n",
            "Collecting jedi>=0.16 (from ipython>=4.0.0->ipywidgets)\n",
            "  Downloading jedi-0.19.2-py2.py3-none-any.whl.metadata (22 kB)\n",
            "Requirement already satisfied: decorator in /usr/local/lib/python3.11/dist-packages (from ipython>=4.0.0->ipywidgets) (4.4.2)\n",
            "Requirement already satisfied: pickleshare in /usr/local/lib/python3.11/dist-packages (from ipython>=4.0.0->ipywidgets) (0.7.5)\n",
            "Requirement already satisfied: prompt-toolkit!=3.0.0,!=3.0.1,<3.1.0,>=2.0.0 in /usr/local/lib/python3.11/dist-packages (from ipython>=4.0.0->ipywidgets) (3.0.51)\n",
            "Requirement already satisfied: pygments in /usr/local/lib/python3.11/dist-packages (from ipython>=4.0.0->ipywidgets) (2.19.1)\n",
            "Requirement already satisfied: backcall in /usr/local/lib/python3.11/dist-packages (from ipython>=4.0.0->ipywidgets) (0.2.0)\n",
            "Requirement already satisfied: pexpect>4.3 in /usr/local/lib/python3.11/dist-packages (from ipython>=4.0.0->ipywidgets) (4.9.0)\n",
            "Requirement already satisfied: notebook>=4.4.1 in /usr/local/lib/python3.11/dist-packages (from widgetsnbextension~=3.6.0->ipywidgets) (6.5.7)\n",
            "Requirement already satisfied: parso<0.9.0,>=0.8.4 in /usr/local/lib/python3.11/dist-packages (from jedi>=0.16->ipython>=4.0.0->ipywidgets) (0.8.4)\n",
            "Requirement already satisfied: jupyter-core>=4.6.0 in /usr/local/lib/python3.11/dist-packages (from jupyter-client>=6.1.12->ipykernel>=4.5.1->ipywidgets) (5.7.2)\n",
            "Requirement already satisfied: python-dateutil>=2.1 in /usr/local/lib/python3.11/dist-packages (from jupyter-client>=6.1.12->ipykernel>=4.5.1->ipywidgets) (2.9.0.post0)\n",
            "Requirement already satisfied: jinja2 in /usr/local/lib/python3.11/dist-packages (from notebook>=4.4.1->widgetsnbextension~=3.6.0->ipywidgets) (3.1.6)\n",
            "Requirement already satisfied: argon2-cffi in /usr/local/lib/python3.11/dist-packages (from notebook>=4.4.1->widgetsnbextension~=3.6.0->ipywidgets) (23.1.0)\n",
            "Requirement already satisfied: nbformat in /usr/local/lib/python3.11/dist-packages (from notebook>=4.4.1->widgetsnbextension~=3.6.0->ipywidgets) (5.10.4)\n",
            "Requirement already satisfied: nbconvert>=5 in /usr/local/lib/python3.11/dist-packages (from notebook>=4.4.1->widgetsnbextension~=3.6.0->ipywidgets) (7.16.6)\n",
            "Requirement already satisfied: Send2Trash>=1.8.0 in /usr/local/lib/python3.11/dist-packages (from notebook>=4.4.1->widgetsnbextension~=3.6.0->ipywidgets) (1.8.3)\n",
            "Requirement already satisfied: terminado>=0.8.3 in /usr/local/lib/python3.11/dist-packages (from notebook>=4.4.1->widgetsnbextension~=3.6.0->ipywidgets) (0.18.1)\n",
            "Requirement already satisfied: prometheus-client in /usr/local/lib/python3.11/dist-packages (from notebook>=4.4.1->widgetsnbextension~=3.6.0->ipywidgets) (0.22.0)\n",
            "Requirement already satisfied: nbclassic>=0.4.7 in /usr/local/lib/python3.11/dist-packages (from notebook>=4.4.1->widgetsnbextension~=3.6.0->ipywidgets) (1.3.1)\n",
            "Requirement already satisfied: ptyprocess>=0.5 in /usr/local/lib/python3.11/dist-packages (from pexpect>4.3->ipython>=4.0.0->ipywidgets) (0.7.0)\n",
            "Requirement already satisfied: wcwidth in /usr/local/lib/python3.11/dist-packages (from prompt-toolkit!=3.0.0,!=3.0.1,<3.1.0,>=2.0.0->ipython>=4.0.0->ipywidgets) (0.2.13)\n",
            "Requirement already satisfied: platformdirs>=2.5 in /usr/local/lib/python3.11/dist-packages (from jupyter-core>=4.6.0->jupyter-client>=6.1.12->ipykernel>=4.5.1->ipywidgets) (4.3.8)\n",
            "Requirement already satisfied: notebook-shim>=0.2.3 in /usr/local/lib/python3.11/dist-packages (from nbclassic>=0.4.7->notebook>=4.4.1->widgetsnbextension~=3.6.0->ipywidgets) (0.2.4)\n",
            "Requirement already satisfied: beautifulsoup4 in /usr/local/lib/python3.11/dist-packages (from nbconvert>=5->notebook>=4.4.1->widgetsnbextension~=3.6.0->ipywidgets) (4.13.4)\n",
            "Requirement already satisfied: bleach!=5.0.0 in /usr/local/lib/python3.11/dist-packages (from bleach[css]!=5.0.0->nbconvert>=5->notebook>=4.4.1->widgetsnbextension~=3.6.0->ipywidgets) (6.2.0)\n",
            "Requirement already satisfied: defusedxml in /usr/local/lib/python3.11/dist-packages (from nbconvert>=5->notebook>=4.4.1->widgetsnbextension~=3.6.0->ipywidgets) (0.7.1)\n",
            "Requirement already satisfied: jupyterlab-pygments in /usr/local/lib/python3.11/dist-packages (from nbconvert>=5->notebook>=4.4.1->widgetsnbextension~=3.6.0->ipywidgets) (0.3.0)\n",
            "Requirement already satisfied: markupsafe>=2.0 in /usr/local/lib/python3.11/dist-packages (from nbconvert>=5->notebook>=4.4.1->widgetsnbextension~=3.6.0->ipywidgets) (3.0.2)\n",
            "Requirement already satisfied: mistune<4,>=2.0.3 in /usr/local/lib/python3.11/dist-packages (from nbconvert>=5->notebook>=4.4.1->widgetsnbextension~=3.6.0->ipywidgets) (3.1.3)\n",
            "Requirement already satisfied: nbclient>=0.5.0 in /usr/local/lib/python3.11/dist-packages (from nbconvert>=5->notebook>=4.4.1->widgetsnbextension~=3.6.0->ipywidgets) (0.10.2)\n",
            "Requirement already satisfied: pandocfilters>=1.4.1 in /usr/local/lib/python3.11/dist-packages (from nbconvert>=5->notebook>=4.4.1->widgetsnbextension~=3.6.0->ipywidgets) (1.5.1)\n",
            "Requirement already satisfied: fastjsonschema>=2.15 in /usr/local/lib/python3.11/dist-packages (from nbformat->notebook>=4.4.1->widgetsnbextension~=3.6.0->ipywidgets) (2.21.1)\n",
            "Requirement already satisfied: jsonschema>=2.6 in /usr/local/lib/python3.11/dist-packages (from nbformat->notebook>=4.4.1->widgetsnbextension~=3.6.0->ipywidgets) (4.23.0)\n",
            "Requirement already satisfied: six>=1.5 in /usr/local/lib/python3.11/dist-packages (from python-dateutil>=2.1->jupyter-client>=6.1.12->ipykernel>=4.5.1->ipywidgets) (1.17.0)\n",
            "Requirement already satisfied: argon2-cffi-bindings in /usr/local/lib/python3.11/dist-packages (from argon2-cffi->notebook>=4.4.1->widgetsnbextension~=3.6.0->ipywidgets) (21.2.0)\n",
            "Requirement already satisfied: webencodings in /usr/local/lib/python3.11/dist-packages (from bleach!=5.0.0->bleach[css]!=5.0.0->nbconvert>=5->notebook>=4.4.1->widgetsnbextension~=3.6.0->ipywidgets) (0.5.1)\n",
            "Requirement already satisfied: tinycss2<1.5,>=1.1.0 in /usr/local/lib/python3.11/dist-packages (from bleach[css]!=5.0.0->nbconvert>=5->notebook>=4.4.1->widgetsnbextension~=3.6.0->ipywidgets) (1.4.0)\n",
            "Requirement already satisfied: attrs>=22.2.0 in /usr/local/lib/python3.11/dist-packages (from jsonschema>=2.6->nbformat->notebook>=4.4.1->widgetsnbextension~=3.6.0->ipywidgets) (25.3.0)\n",
            "Requirement already satisfied: jsonschema-specifications>=2023.03.6 in /usr/local/lib/python3.11/dist-packages (from jsonschema>=2.6->nbformat->notebook>=4.4.1->widgetsnbextension~=3.6.0->ipywidgets) (2025.4.1)\n",
            "Requirement already satisfied: referencing>=0.28.4 in /usr/local/lib/python3.11/dist-packages (from jsonschema>=2.6->nbformat->notebook>=4.4.1->widgetsnbextension~=3.6.0->ipywidgets) (0.36.2)\n",
            "Requirement already satisfied: rpds-py>=0.7.1 in /usr/local/lib/python3.11/dist-packages (from jsonschema>=2.6->nbformat->notebook>=4.4.1->widgetsnbextension~=3.6.0->ipywidgets) (0.25.1)\n",
            "Requirement already satisfied: jupyter-server<3,>=1.8 in /usr/local/lib/python3.11/dist-packages (from notebook-shim>=0.2.3->nbclassic>=0.4.7->notebook>=4.4.1->widgetsnbextension~=3.6.0->ipywidgets) (1.16.0)\n",
            "Requirement already satisfied: cffi>=1.0.1 in /usr/local/lib/python3.11/dist-packages (from argon2-cffi-bindings->argon2-cffi->notebook>=4.4.1->widgetsnbextension~=3.6.0->ipywidgets) (1.17.1)\n",
            "Requirement already satisfied: soupsieve>1.2 in /usr/local/lib/python3.11/dist-packages (from beautifulsoup4->nbconvert>=5->notebook>=4.4.1->widgetsnbextension~=3.6.0->ipywidgets) (2.7)\n",
            "Requirement already satisfied: typing-extensions>=4.0.0 in /usr/local/lib/python3.11/dist-packages (from beautifulsoup4->nbconvert>=5->notebook>=4.4.1->widgetsnbextension~=3.6.0->ipywidgets) (4.13.2)\n",
            "Requirement already satisfied: pycparser in /usr/local/lib/python3.11/dist-packages (from cffi>=1.0.1->argon2-cffi-bindings->argon2-cffi->notebook>=4.4.1->widgetsnbextension~=3.6.0->ipywidgets) (2.22)\n",
            "Requirement already satisfied: anyio>=3.1.0 in /usr/local/lib/python3.11/dist-packages (from jupyter-server<3,>=1.8->notebook-shim>=0.2.3->nbclassic>=0.4.7->notebook>=4.4.1->widgetsnbextension~=3.6.0->ipywidgets) (4.9.0)\n",
            "Requirement already satisfied: websocket-client in /usr/local/lib/python3.11/dist-packages (from jupyter-server<3,>=1.8->notebook-shim>=0.2.3->nbclassic>=0.4.7->notebook>=4.4.1->widgetsnbextension~=3.6.0->ipywidgets) (1.8.0)\n",
            "Requirement already satisfied: idna>=2.8 in /usr/local/lib/python3.11/dist-packages (from anyio>=3.1.0->jupyter-server<3,>=1.8->notebook-shim>=0.2.3->nbclassic>=0.4.7->notebook>=4.4.1->widgetsnbextension~=3.6.0->ipywidgets) (3.10)\n",
            "Requirement already satisfied: sniffio>=1.1 in /usr/local/lib/python3.11/dist-packages (from anyio>=3.1.0->jupyter-server<3,>=1.8->notebook-shim>=0.2.3->nbclassic>=0.4.7->notebook>=4.4.1->widgetsnbextension~=3.6.0->ipywidgets) (1.3.1)\n",
            "Downloading jedi-0.19.2-py2.py3-none-any.whl (1.6 MB)\n",
            "\u001b[2K   \u001b[90m━━━━━━━━━━━━━━━━━━━━━━━━━━━━━━━━━━━━━━━━\u001b[0m \u001b[32m1.6/1.6 MB\u001b[0m \u001b[31m17.6 MB/s\u001b[0m eta \u001b[36m0:00:00\u001b[0m\n",
            "\u001b[?25hInstalling collected packages: jedi\n",
            "Successfully installed jedi-0.19.2\n"
          ]
        },
        {
          "output_type": "display_data",
          "data": {
            "text/plain": [
              "Text(value='NC_000913.3', description='Accession:', placeholder='Enter NCBI Accession')"
            ],
            "application/vnd.jupyter.widget-view+json": {
              "version_major": 2,
              "version_minor": 0,
              "model_id": "57533a34afb944d2846c29324de754d5"
            }
          },
          "metadata": {}
        },
        {
          "output_type": "display_data",
          "data": {
            "text/plain": [
              "Text(value='NGG', description='PAM:', placeholder='e.g., NGG')"
            ],
            "application/vnd.jupyter.widget-view+json": {
              "version_major": 2,
              "version_minor": 0,
              "model_id": "57fe172bb9bf4a988baed5004b8e82a0"
            }
          },
          "metadata": {}
        },
        {
          "output_type": "display_data",
          "data": {
            "text/plain": [
              "IntSlider(value=20, description='gRNA Length:', max=23, min=18)"
            ],
            "application/vnd.jupyter.widget-view+json": {
              "version_major": 2,
              "version_minor": 0,
              "model_id": "ced29860e03049739f526408f011b075"
            }
          },
          "metadata": {}
        },
        {
          "output_type": "display_data",
          "data": {
            "text/plain": [
              "FloatRangeSlider(value=(40.0, 60.0), description='GC Range:', step=1.0)"
            ],
            "application/vnd.jupyter.widget-view+json": {
              "version_major": 2,
              "version_minor": 0,
              "model_id": "3767bb13069b498795617aaad759b3e8"
            }
          },
          "metadata": {}
        }
      ]
    },
    {
      "cell_type": "markdown",
      "source": [
        "🧬 2. BLAST Search for Off-Target Analysis (More Realistic)\n",
        "Purpose: Check if a candidate guide occurs elsewhere in the genome."
      ],
      "metadata": {
        "id": "zfwZRKMgyVfj"
      }
    },
    {
      "cell_type": "code",
      "source": [
        "from Bio.Blast import NCBIWWW, NCBIXML\n",
        "\n",
        "def run_blast_off_target(gRNA):\n",
        "    print(\"Running BLAST...\")\n",
        "    result_handle = NCBIWWW.qblast(\"blastn\", \"nt\", gRNA, hitlist_size=5)\n",
        "    blast_record = NCBIXML.read(result_handle)\n",
        "\n",
        "    for alignment in blast_record.alignments:\n",
        "        for hsp in alignment.hsps:\n",
        "            print(f\"Match: {alignment.title}\")\n",
        "            print(f\"Score: {hsp.score}, E-value: {hsp.expect}\")\n",
        "            print(f\"Match: {hsp.sbjct}\\n\")"
      ],
      "metadata": {
        "id": "OzkaFbp2yWvE"
      },
      "execution_count": 12,
      "outputs": []
    },
    {
      "cell_type": "code",
      "source": [
        "# Run BLAST for a top candidate (USE WITH CAUTION: rate-limited)\n",
        "run_blast_off_target(candidates[0])"
      ],
      "metadata": {
        "colab": {
          "base_uri": "https://localhost:8080/",
          "height": 159
        },
        "id": "1fYe1BuzydIL",
        "outputId": "c4b130da-ac6c-40f8-b3f7-c1a28e3f288b"
      },
      "execution_count": 13,
      "outputs": [
        {
          "output_type": "error",
          "ename": "IndexError",
          "evalue": "list index out of range",
          "traceback": [
            "\u001b[0;31m---------------------------------------------------------------------------\u001b[0m",
            "\u001b[0;31mIndexError\u001b[0m                                Traceback (most recent call last)",
            "\u001b[0;32m<ipython-input-13-ef3da5ea9d9f>\u001b[0m in \u001b[0;36m<cell line: 0>\u001b[0;34m()\u001b[0m\n\u001b[1;32m      1\u001b[0m \u001b[0;31m# Run BLAST for a top candidate (USE WITH CAUTION: rate-limited)\u001b[0m\u001b[0;34m\u001b[0m\u001b[0;34m\u001b[0m\u001b[0m\n\u001b[0;32m----> 2\u001b[0;31m \u001b[0mrun_blast_off_target\u001b[0m\u001b[0;34m(\u001b[0m\u001b[0mcandidates\u001b[0m\u001b[0;34m[\u001b[0m\u001b[0;36m0\u001b[0m\u001b[0;34m]\u001b[0m\u001b[0;34m)\u001b[0m\u001b[0;34m\u001b[0m\u001b[0;34m\u001b[0m\u001b[0m\n\u001b[0m",
            "\u001b[0;31mIndexError\u001b[0m: list index out of range"
          ]
        }
      ]
    }
  ]
}