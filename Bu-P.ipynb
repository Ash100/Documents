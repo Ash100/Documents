{
  "nbformat": 4,
  "nbformat_minor": 0,
  "metadata": {
    "colab": {
      "provenance": [],
      "authorship_tag": "ABX9TyM05tKkvJkrsotpbL+8a09u",
      "include_colab_link": true
    },
    "kernelspec": {
      "name": "python3",
      "display_name": "Python 3"
    },
    "language_info": {
      "name": "python"
    }
  },
  "cells": [
    {
      "cell_type": "markdown",
      "metadata": {
        "id": "view-in-github",
        "colab_type": "text"
      },
      "source": [
        "<a href=\"https://colab.research.google.com/github/Ash100/Documents/blob/main/Bu-P.ipynb\" target=\"_parent\"><img src=\"https://colab.research.google.com/assets/colab-badge.svg\" alt=\"Open In Colab\"/></a>"
      ]
    },
    {
      "cell_type": "code",
      "execution_count": null,
      "metadata": {
        "id": "NkWJ0aHtL2fE"
      },
      "outputs": [],
      "source": [
        "!pip install rdkit"
      ]
    },
    {
      "cell_type": "code",
      "source": [
        "# Input a SMILES string\n",
        "smiles = input(\"Enter a SMILES string: \").strip()\n",
        "\n",
        "if smiles:\n",
        "    print(f\"Provided SMILES: {smiles}\")\n",
        "else:\n",
        "    print(\"No SMILES string provided.\")\n"
      ],
      "metadata": {
        "id": "MCwjfAs9L8er"
      },
      "execution_count": null,
      "outputs": []
    },
    {
      "cell_type": "code",
      "source": [
        "from rdkit import Chem\n",
        "\n",
        "def identify_functional_groups(smiles):\n",
        "    molecule = Chem.MolFromSmiles(smiles)\n",
        "    if not molecule:\n",
        "        return \"Invalid SMILES string\"\n",
        "\n",
        "    # Define functional groups with SMARTS patterns\n",
        "    patterns = {\n",
        "        \"Amine\": Chem.MolFromSmarts(\"[NX3;H2,H1;!$(NC=O)]\"),\n",
        "        \"Imine\": Chem.MolFromSmarts(\"[CX3]=[NX2]\"),\n",
        "        \"Alcohol\": Chem.MolFromSmarts(\"[OX2H]\"),\n",
        "        \"Carboxylic Acid\": Chem.MolFromSmarts(\"C(=O)[OH]\"),\n",
        "        \"Guanidine\": Chem.MolFromSmarts(\"C(=N)N\"),\n",
        "        \"Ketone\": Chem.MolFromSmarts(\"C(=O)[C]\")\n",
        "    }\n",
        "\n",
        "    functional_groups = []\n",
        "    for name, pattern in patterns.items():\n",
        "        if molecule.HasSubstructMatch(pattern):\n",
        "            functional_groups.append(name)\n",
        "\n",
        "    return functional_groups\n",
        "\n",
        "# Example: Identify functional groups\n"
      ],
      "metadata": {
        "id": "tF3S4CaAL-y5"
      },
      "execution_count": null,
      "outputs": []
    },
    {
      "cell_type": "code",
      "source": [
        "def find_attachment_sites(smiles, conjugate_groups):\n",
        "    molecule = Chem.MolFromSmiles(smiles)\n",
        "    if not molecule:\n",
        "        return \"Invalid SMILES string\"\n",
        "\n",
        "    patterns = {\n",
        "        \"Amine\": Chem.MolFromSmarts(\"[NX3;H2,H1;!$(NC=O)]\"),\n",
        "        \"Imine\": Chem.MolFromSmarts(\"[CX3]=[NX2]\"),\n",
        "        \"Guanidine\": Chem.MolFromSmarts(\"C(=N)N\")\n",
        "    }\n",
        "\n",
        "    attachment_sites = []\n",
        "    for group in conjugate_groups:\n",
        "        if group in patterns and molecule.HasSubstructMatch(patterns[group]):\n",
        "            attachment_sites.append(group)\n"
      ],
      "metadata": {
        "id": "s-wON7vkMKth"
      },
      "execution_count": null,
      "outputs": []
    },
    {
      "cell_type": "code",
      "source": [
        "# Input a conjugate SMILES string\n",
        "conjugate_smiles = input(\"Enter the conjugate's SMILES string: \").strip()\n",
        "\n",
        "if conjugate_smiles:\n",
        "    print(f\"Provided Conjugate SMILES: {conjugate_smiles}\")\n",
        "else:\n",
        "    print(\"No conjugate SMILES string provided.\")\n"
      ],
      "metadata": {
        "id": "pzKzZZUFOmO7"
      },
      "execution_count": null,
      "outputs": []
    },
    {
      "cell_type": "code",
      "source": [
        "def merge_molecules_with_validation(main_smiles, conjugate_smiles):\n",
        "    main_molecule = Chem.MolFromSmiles(main_smiles)\n",
        "    conjugate_molecule = Chem.MolFromSmiles(conjugate_smiles)\n",
        "\n",
        "    if not main_molecule or not conjugate_molecule:\n",
        "        return \"Invalid SMILES strings\"\n",
        "\n",
        "    # Find an attachable atom in the main molecule (e.g., hydrogen or single-bonded atom)\n",
        "    main_attach_idx = -1\n",
        "    for atom in main_molecule.GetAtoms():\n",
        "        if atom.GetExplicitValence() < atom.GetTotalValence():\n",
        "            main_attach_idx = atom.GetIdx()\n",
        "            break\n",
        "\n",
        "    if main_attach_idx == -1:\n",
        "        return \"No suitable attachment point found in main molecule.\"\n",
        "\n",
        "    # Find an attachable atom in the conjugate (e.g., hydrogen or single-bonded atom)\n",
        "    conjugate_attach_idx = -1\n",
        "    for atom in conjugate_molecule.GetAtoms():\n",
        "        if atom.GetExplicitValence() < atom.GetTotalValence():\n",
        "            conjugate_attach_idx = atom.GetIdx()\n",
        "            break\n",
        "\n",
        "    if conjugate_attach_idx == -1:\n",
        "        return \"No suitable attachment point found in conjugate molecule.\"\n",
        "\n",
        "    # Combine molecules\n",
        "    combined = Chem.CombineMols(main_molecule, conjugate_molecule)\n",
        "    editable_combined = Chem.EditableMol(combined)\n",
        "\n",
        "    # Attach a bond between the selected atoms\n",
        "    conjugate_offset = main_molecule.GetNumAtoms()  # Offset for conjugate atom indices\n",
        "    editable_combined.AddBond(main_attach_idx, conjugate_attach_idx + conjugate_offset, Chem.rdchem.BondType.SINGLE)\n",
        "\n",
        "    # Return the final merged SMILES\n",
        "    merged_molecule = editable_combined.GetMol()\n",
        "    return Chem.MolToSmiles(merged_molecule)\n",
        "\n",
        "# Example usage\n",
        "merged_smiles = merge_molecules_with_validation(smiles, conjugate_smiles)\n",
        "print(\"Merged Molecule SMILES:\", merged_smiles)\n"
      ],
      "metadata": {
        "id": "jJFvd138Ovn6"
      },
      "execution_count": null,
      "outputs": []
    },
    {
      "cell_type": "code",
      "source": [
        "from rdkit.Chem import Draw\n",
        "from IPython.display import display\n",
        "\n",
        "# Convert the merged SMILES to a molecule\n",
        "merged_molecule = Chem.MolFromSmiles(merged_smiles)\n",
        "\n",
        "if merged_molecule:\n",
        "    # Draw the molecule\n",
        "    img = Draw.MolToImage(merged_molecule)\n",
        "    display(img)  # Display the image in Google Colab\n",
        "else:\n",
        "    print(\"Failed to create a molecule from the merged SMILES.\")\n",
        "\n"
      ],
      "metadata": {
        "id": "D962pbEiPMIL"
      },
      "execution_count": null,
      "outputs": []
    }
  ]
}